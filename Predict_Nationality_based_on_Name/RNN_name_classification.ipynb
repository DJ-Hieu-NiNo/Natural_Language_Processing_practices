{
  "nbformat": 4,
  "nbformat_minor": 0,
  "metadata": {
    "colab": {
      "name": "RNN_name_classification.ipynb",
      "provenance": [],
      "collapsed_sections": [],
      "machine_shape": "hm"
    },
    "kernelspec": {
      "name": "python3",
      "display_name": "Python 3"
    },
    "accelerator": "GPU"
  },
  "cells": [
    {
      "cell_type": "code",
      "metadata": {
        "id": "6iagKgyoVVdd",
        "colab_type": "code",
        "colab": {
          "base_uri": "https://localhost:8080/",
          "height": 34
        },
        "outputId": "f218ea3b-be80-4b5b-aeb2-ce282853e9dc"
      },
      "source": [
        "from google.colab import drive\n",
        "drive.mount('/content/gdrive')"
      ],
      "execution_count": 11,
      "outputs": [
        {
          "output_type": "stream",
          "text": [
            "Drive already mounted at /content/gdrive; to attempt to forcibly remount, call drive.mount(\"/content/gdrive\", force_remount=True).\n"
          ],
          "name": "stdout"
        }
      ]
    },
    {
      "cell_type": "markdown",
      "metadata": {
        "id": "461Qih6aVulD",
        "colab_type": "text"
      },
      "source": [
        "# **Try to access data folder**"
      ]
    },
    {
      "cell_type": "code",
      "metadata": {
        "id": "2HYpNPriVpYq",
        "colab_type": "code",
        "colab": {
          "base_uri": "https://localhost:8080/",
          "height": 71
        },
        "outputId": "6b9e6e8a-1d35-46e8-b610-086326cc69fd"
      },
      "source": [
        "import glob\n",
        "\n",
        "name_folders=glob.glob('/content/gdrive/My Drive/PyTorch_RNN/names/*.txt')\n",
        "print(name_folders)\n",
        "print(\"The number of class: \",len(name_folders))"
      ],
      "execution_count": 12,
      "outputs": [
        {
          "output_type": "stream",
          "text": [
            "['/content/gdrive/My Drive/PyTorch_RNN/names/Russian.txt', '/content/gdrive/My Drive/PyTorch_RNN/names/Irish.txt', '/content/gdrive/My Drive/PyTorch_RNN/names/Spanish.txt', '/content/gdrive/My Drive/PyTorch_RNN/names/Korean.txt', '/content/gdrive/My Drive/PyTorch_RNN/names/Greek.txt', '/content/gdrive/My Drive/PyTorch_RNN/names/English.txt', '/content/gdrive/My Drive/PyTorch_RNN/names/Dutch.txt', '/content/gdrive/My Drive/PyTorch_RNN/names/Polish.txt', '/content/gdrive/My Drive/PyTorch_RNN/names/Japanese.txt', '/content/gdrive/My Drive/PyTorch_RNN/names/Italian.txt', '/content/gdrive/My Drive/PyTorch_RNN/names/Czech.txt', '/content/gdrive/My Drive/PyTorch_RNN/names/Scottish.txt', '/content/gdrive/My Drive/PyTorch_RNN/names/Chinese.txt', '/content/gdrive/My Drive/PyTorch_RNN/names/German.txt', '/content/gdrive/My Drive/PyTorch_RNN/names/Vietnamese.txt', '/content/gdrive/My Drive/PyTorch_RNN/names/French.txt', '/content/gdrive/My Drive/PyTorch_RNN/names/Arabic.txt', '/content/gdrive/My Drive/PyTorch_RNN/names/Portuguese.txt']\n",
            "The number of class:  18\n"
          ],
          "name": "stdout"
        }
      ]
    },
    {
      "cell_type": "markdown",
      "metadata": {
        "id": "_hExAt_UWlSg",
        "colab_type": "text"
      },
      "source": [
        "# **Convert Name from Unicode type to ASCII . **\n",
        " This will eliminate diacritics in the words. For example , with the name \"Béringer\" in French -> \"Beringer\"**"
      ]
    },
    {
      "cell_type": "code",
      "metadata": {
        "id": "Fuu99MhxV-CS",
        "colab_type": "code",
        "colab": {
          "base_uri": "https://localhost:8080/",
          "height": 85
        },
        "outputId": "fe90df0b-e546-4d25-d6e7-190a5844acfa"
      },
      "source": [
        "import unicodedata\n",
        "import string\n",
        "\n",
        "\n",
        "all_letters=string.ascii_letters + \".,;'\"\n",
        "print(all_letters)\n",
        "print(len(all_letters))\n",
        "\n",
        "def  unicode_to_ascii(s):\n",
        "  return ''.join(c for c in unicodedata.normalize('NFD',s) if unicodedata.category(c) != 'Mn' and c in all_letters)\n",
        "\n",
        "print(unicode_to_ascii(\"Béringer\"))\n",
        "print(unicode_to_ascii(\"Hiếu\"))"
      ],
      "execution_count": 13,
      "outputs": [
        {
          "output_type": "stream",
          "text": [
            "abcdefghijklmnopqrstuvwxyzABCDEFGHIJKLMNOPQRSTUVWXYZ.,;'\n",
            "56\n",
            "Beringer\n",
            "Hieu\n"
          ],
          "name": "stdout"
        }
      ]
    },
    {
      "cell_type": "markdown",
      "metadata": {
        "id": "vEDzHpCyYYHN",
        "colab_type": "text"
      },
      "source": [
        "# **Create a dictionary with a list name for each language (class)**"
      ]
    },
    {
      "cell_type": "code",
      "metadata": {
        "id": "NMqrX3jTXoQE",
        "colab_type": "code",
        "colab": {
          "base_uri": "https://localhost:8080/",
          "height": 88
        },
        "outputId": "5ce312a5-0528-45bd-d761-d1459fab24f6"
      },
      "source": [
        "category_languages={}\n",
        "all_categories=[]\n",
        "\n",
        "#Đọc và chuyển tên mỗi dòng trong một file txt thành một tên theo các kí tự ascii (strip để loại bỏ những khoảng trống thừa)\n",
        "def readLines(filename):\n",
        "  lines=open(filename).read().strip().split(\"\\n\")\n",
        "  return [unicode_to_ascii(line) for line in lines]\n",
        "\n",
        "for filename in name_folders:\n",
        "  category=filename.split('/')[-1].split('.')[0] # để đọc mỗi cái tên thày vì cả tên file kèm .txt\n",
        "  all_categories.append(category)\n",
        "  languages=readLines(filename)\n",
        "  category_languages[category]=languages\n",
        "\n",
        "print(all_categories)\n",
        "print(\"The number of class : \",len(all_categories))\n",
        "print(category_languages['Vietnamese'])\n"
      ],
      "execution_count": 14,
      "outputs": [
        {
          "output_type": "stream",
          "text": [
            "['Russian', 'Irish', 'Spanish', 'Korean', 'Greek', 'English', 'Dutch', 'Polish', 'Japanese', 'Italian', 'Czech', 'Scottish', 'Chinese', 'German', 'Vietnamese', 'French', 'Arabic', 'Portuguese']\n",
            "The number of class :  18\n",
            "['Nguyen', 'Tron', 'Le', 'Pham', 'Huynh', 'Hoang', 'Phan', 'Vu', 'Vo', 'Dang', 'Bui', 'Do', 'Ho', 'Ngo', 'Duong', 'Ly', 'An', 'an', 'Bach', 'Banh', 'Cao', 'Chau', 'Chu', 'Chung', 'Chu', 'Diep', 'Doan', 'Dam', 'Dao', 'Dinh', 'Doan', 'Giang', 'Ha', 'Han', 'Kieu', 'Kim', 'La', 'Lac', 'Lam', 'Lieu', 'Luc', 'Luong', 'Luu', 'Ma', 'Mach', 'Mai', 'Nghiem', 'Phi', 'Pho', 'Phung', 'Quach', 'Quang', 'Quyen', 'Ta', 'Thach', 'Thai', 'Sai', 'Thi', 'Than', 'Thao', 'Thuy', 'Tieu', 'To', 'Ton', 'Tong', 'Trang', 'Trieu', 'Trinh', 'Truong', 'Van', 'Vinh', 'Vuong', 'Vuu']\n"
          ],
          "name": "stdout"
        }
      ]
    },
    {
      "cell_type": "markdown",
      "metadata": {
        "id": "YsFO1q3_aeG9",
        "colab_type": "text"
      },
      "source": [
        "# **Turning names into PyTorch tensors**"
      ]
    },
    {
      "cell_type": "code",
      "metadata": {
        "id": "PpW6WJKlZ67u",
        "colab_type": "code",
        "colab": {
          "base_uri": "https://localhost:8080/",
          "height": 442
        },
        "outputId": "d7170d1b-d925-4001-e37d-e2c555ac70e3"
      },
      "source": [
        "import torch\n",
        "\n",
        "n_letters=len(all_letters) #=56 \n",
        "\n",
        "def letter_to_tensor(letter):\n",
        "  tensor=torch.zeros(1,n_letters)\n",
        "  letter_index=all_letters.find(letter)\n",
        "  tensor[0][letter_index]=1\n",
        "  return tensor\n",
        "\n",
        "def line_to_tensor(line):\n",
        "  tensor=torch.zeros(len(line),1,n_letters)\n",
        "  for idx,letter in enumerate(line):\n",
        "    letter_index=all_letters.find(letter)\n",
        "    tensor[idx][0][letter_index]=1\n",
        "  return tensor\n",
        "\n",
        "print(\"One hot for character H:\\n\" ,letter_to_tensor(\"H\"),letter_to_tensor(\"H\").shape) #1x56\n",
        "print(\"One hot for name 'Hieu' :\\n \", line_to_tensor(\"Hieu\"),line_to_tensor(\"Hieu\").shape) #4x1x56\n",
        "\n"
      ],
      "execution_count": 15,
      "outputs": [
        {
          "output_type": "stream",
          "text": [
            "One hot for character H:\n",
            " tensor([[0., 0., 0., 0., 0., 0., 0., 0., 0., 0., 0., 0., 0., 0., 0., 0., 0., 0.,\n",
            "         0., 0., 0., 0., 0., 0., 0., 0., 0., 0., 0., 0., 0., 0., 0., 1., 0., 0.,\n",
            "         0., 0., 0., 0., 0., 0., 0., 0., 0., 0., 0., 0., 0., 0., 0., 0., 0., 0.,\n",
            "         0., 0.]]) torch.Size([1, 56])\n",
            "One hot for name 'Hieu' :\n",
            "  tensor([[[0., 0., 0., 0., 0., 0., 0., 0., 0., 0., 0., 0., 0., 0., 0., 0., 0.,\n",
            "          0., 0., 0., 0., 0., 0., 0., 0., 0., 0., 0., 0., 0., 0., 0., 0., 1.,\n",
            "          0., 0., 0., 0., 0., 0., 0., 0., 0., 0., 0., 0., 0., 0., 0., 0., 0.,\n",
            "          0., 0., 0., 0., 0.]],\n",
            "\n",
            "        [[0., 0., 0., 0., 0., 0., 0., 0., 1., 0., 0., 0., 0., 0., 0., 0., 0.,\n",
            "          0., 0., 0., 0., 0., 0., 0., 0., 0., 0., 0., 0., 0., 0., 0., 0., 0.,\n",
            "          0., 0., 0., 0., 0., 0., 0., 0., 0., 0., 0., 0., 0., 0., 0., 0., 0.,\n",
            "          0., 0., 0., 0., 0.]],\n",
            "\n",
            "        [[0., 0., 0., 0., 1., 0., 0., 0., 0., 0., 0., 0., 0., 0., 0., 0., 0.,\n",
            "          0., 0., 0., 0., 0., 0., 0., 0., 0., 0., 0., 0., 0., 0., 0., 0., 0.,\n",
            "          0., 0., 0., 0., 0., 0., 0., 0., 0., 0., 0., 0., 0., 0., 0., 0., 0.,\n",
            "          0., 0., 0., 0., 0.]],\n",
            "\n",
            "        [[0., 0., 0., 0., 0., 0., 0., 0., 0., 0., 0., 0., 0., 0., 0., 0., 0.,\n",
            "          0., 0., 0., 1., 0., 0., 0., 0., 0., 0., 0., 0., 0., 0., 0., 0., 0.,\n",
            "          0., 0., 0., 0., 0., 0., 0., 0., 0., 0., 0., 0., 0., 0., 0., 0., 0.,\n",
            "          0., 0., 0., 0., 0.]]]) torch.Size([4, 1, 56])\n"
          ],
          "name": "stdout"
        }
      ]
    },
    {
      "cell_type": "markdown",
      "metadata": {
        "id": "fxQG4RA3cafl",
        "colab_type": "text"
      },
      "source": [
        "# **Define architecture**"
      ]
    },
    {
      "cell_type": "code",
      "metadata": {
        "id": "ZKPXHDf9bvGI",
        "colab_type": "code",
        "colab": {}
      },
      "source": [
        "import torch.nn as nn\n",
        "from torch.autograd import Variable \n",
        "\n",
        "class RNN(nn.Module):\n",
        "\n",
        "  def __init__(self,input_size,hidden_size,output_size):\n",
        "    super(RNN,self).__init__()\n",
        "    self.input_size=input_size\n",
        "    self.hidden_size=hidden_size\n",
        "    self.output_size=output_size\n",
        "\n",
        "    self.i2h=nn.Linear(input_size+hidden_size,hidden_size)\n",
        "    self.i2o=nn.Linear(input_size+hidden_size,output_size)\n",
        "\n",
        "    self.softmax=nn.LogSoftmax()\n",
        "\n",
        "  def forward(self,input,hidden):\n",
        "    combined=torch.cat((input,hidden),1)\n",
        "    new_hidden=self.i2h(combined)\n",
        "    output=self.i2o(combined)\n",
        "    output=self.softmax(output)\n",
        "    return output,new_hidden\n",
        "\n",
        "  def init_hidden(self):\n",
        "    return Variable(torch.zeros(1,self.hidden_size))\n",
        "\n",
        "n_hiddens=128\n",
        "rnn=RNN(n_letters,n_hiddens,len(name_folders)) # input_size=56 , n_hidden =128 , output_size=18\n"
      ],
      "execution_count": 16,
      "outputs": []
    },
    {
      "cell_type": "markdown",
      "metadata": {
        "id": "r2AJSf2PwOVZ",
        "colab_type": "text"
      },
      "source": [
        "# **Try a prediction**"
      ]
    },
    {
      "cell_type": "code",
      "metadata": {
        "id": "2Fc1snVXv29p",
        "colab_type": "code",
        "colab": {
          "base_uri": "https://localhost:8080/",
          "height": 173
        },
        "outputId": "b8729491-e34b-426f-b159-66f928cb9e11"
      },
      "source": [
        "input=Variable(letter_to_tensor(\"H\"))\n",
        "hidden=rnn.init_hidden()\n",
        "\n",
        "output,next_hidden=rnn(input,hidden)\n",
        "print(\"Input size : \",input.size())\n",
        "print(\"Hidden size :\",hidden.size())\n",
        "print(\"Concatenate input and hidden -> size: \",torch.cat((input,hidden),1).size())\n",
        "print(\"Output size : \",output.size())\n",
        "print(\"Test output : \",output)"
      ],
      "execution_count": 22,
      "outputs": [
        {
          "output_type": "stream",
          "text": [
            "Input size :  torch.Size([1, 56])\n",
            "Hidden size : torch.Size([1, 128])\n",
            "Concatenate input and hidden -> size:  torch.Size([1, 184])\n",
            "Output size :  torch.Size([1, 18])\n",
            "Test output :  tensor([[-2.8201, -2.9329, -2.9218, -2.8711, -2.8515, -2.9436, -2.8758, -2.8843,\n",
            "         -2.8917, -2.9430, -2.7606, -3.0058, -2.9221, -2.9150, -2.8066, -2.9912,\n",
            "         -2.8350, -2.8883]], grad_fn=<LogSoftmaxBackward>)\n"
          ],
          "name": "stdout"
        },
        {
          "output_type": "stream",
          "text": [
            "/usr/local/lib/python3.6/dist-packages/ipykernel_launcher.py:21: UserWarning: Implicit dimension choice for log_softmax has been deprecated. Change the call to include dim=X as an argument.\n"
          ],
          "name": "stderr"
        }
      ]
    },
    {
      "cell_type": "markdown",
      "metadata": {
        "id": "oUFY47HAxNXS",
        "colab_type": "text"
      },
      "source": [
        ""
      ]
    },
    {
      "cell_type": "code",
      "metadata": {
        "id": "b3hSe5eJwmcI",
        "colab_type": "code",
        "colab": {
          "base_uri": "https://localhost:8080/",
          "height": 85
        },
        "outputId": "246df0a4-cad3-4bcc-c302-d860aa212dc0"
      },
      "source": [
        "def category_from_output(output):\n",
        "  top_val,top_idx=output.data.topk(1)\n",
        "  category_idx=top_idx[0][0]\n",
        "  return all_categories[category_idx],category_idx\n",
        "\n",
        "print(output.data.topk(1))\n",
        "print(category_from_output(output))\n"
      ],
      "execution_count": 26,
      "outputs": [
        {
          "output_type": "stream",
          "text": [
            "torch.return_types.topk(\n",
            "values=tensor([[-2.7606]]),\n",
            "indices=tensor([[10]]))\n",
            "('Czech', tensor(10))\n"
          ],
          "name": "stdout"
        }
      ]
    },
    {
      "cell_type": "markdown",
      "metadata": {
        "id": "F9jXk51-yTvV",
        "colab_type": "text"
      },
      "source": [
        "we need a quick way to get a name and its label"
      ]
    },
    {
      "cell_type": "code",
      "metadata": {
        "id": "RKJ03kNgxYbg",
        "colab_type": "code",
        "colab": {
          "base_uri": "https://localhost:8080/",
          "height": 187
        },
        "outputId": "4e3ebf50-79d6-4f0f-e159-b831a52e4f39"
      },
      "source": [
        "import random\n",
        "\n",
        "def random_training_pair():\n",
        "  category=random.choice(all_categories)\n",
        "  line=random.choice(category_languages[category])\n",
        "  category_tensor=Variable(torch.LongTensor([all_categories.index(category)]))\n",
        "  line_tensor=Variable(line_to_tensor(line))\n",
        "  return category,line,category_tensor,line_tensor\n",
        "\n",
        "for i in range(10):\n",
        "  category, line, category_tensor, line_tensor = random_training_pair()\n",
        "  print('category =', category, '/ line =', line,\"~~~category_tensor: \",category_tensor)"
      ],
      "execution_count": 29,
      "outputs": [
        {
          "output_type": "stream",
          "text": [
            "category = German / line = Abbing ~~~category_tensor:  tensor([13])\n",
            "category = Italian / line = Berti ~~~category_tensor:  tensor([9])\n",
            "category = Polish / line = Wyrzyk ~~~category_tensor:  tensor([7])\n",
            "category = Russian / line = Lojchenko ~~~category_tensor:  tensor([0])\n",
            "category = Italian / line = Bandoni ~~~category_tensor:  tensor([9])\n",
            "category = Dutch / line = Nifterick ~~~category_tensor:  tensor([6])\n",
            "category = Chinese / line = Wan ~~~category_tensor:  tensor([12])\n",
            "category = French / line = Gardinier ~~~category_tensor:  tensor([15])\n",
            "category = Japanese / line = Morri ~~~category_tensor:  tensor([8])\n",
            "category = French / line = David ~~~category_tensor:  tensor([15])\n"
          ],
          "name": "stdout"
        }
      ]
    },
    {
      "cell_type": "markdown",
      "metadata": {
        "id": "lIA5AwQiza_e",
        "colab_type": "text"
      },
      "source": [
        "# **define Loss and Optimizer**"
      ]
    },
    {
      "cell_type": "code",
      "metadata": {
        "id": "u_pELvIAzLac",
        "colab_type": "code",
        "colab": {}
      },
      "source": [
        "criterion=nn.NLLLoss()\n",
        "learning_rate=0.005\n",
        "optimizer=torch.optim.SGD(rnn.parameters(),lr=learning_rate)\n"
      ],
      "execution_count": 28,
      "outputs": []
    },
    {
      "cell_type": "markdown",
      "metadata": {
        "id": "-gi2P0ZQzsq_",
        "colab_type": "text"
      },
      "source": [
        "We move forward to define a function that will create the input and output tensors, compare the final output to the target output, and finally do back-propagation."
      ]
    },
    {
      "cell_type": "code",
      "metadata": {
        "id": "M8s7BknVzsOZ",
        "colab_type": "code",
        "colab": {}
      },
      "source": [
        "def train(category_tensor,line_tensor):\n",
        "  rnn.zero_grad()\n",
        "  hidden=rnn.init_hidden()\n",
        "\n",
        "  for i in range(line_tensor.size()[0]):\n",
        "    output,hidden=rnn(line_tensor[i],hidden)\n",
        "  loss=criterion(output,category_tensor)\n",
        "  loss.backward()\n",
        "  optimizer.step()\n",
        "  return output,loss.item()\n"
      ],
      "execution_count": 33,
      "outputs": []
    },
    {
      "cell_type": "code",
      "metadata": {
        "id": "hA2HeHHp0Z68",
        "colab_type": "code",
        "colab": {
          "base_uri": "https://localhost:8080/",
          "height": 394
        },
        "outputId": "99babda7-8dda-400e-d084-ec147b6dd9e8"
      },
      "source": [
        "n_iters=100000\n",
        "print_every=5000\n",
        "plot_every=1000\n",
        "\n",
        "current_loss=0\n",
        "loss_list=[]\n",
        "\n",
        "for iter in range(n_iters):\n",
        "  category,line,category_tensor,line_tensor=random_training_pair()\n",
        "  output,loss=train(category_tensor,line_tensor)\n",
        "  current_loss+=loss\n",
        "\n",
        "  if iter%print_every==0:\n",
        "    guess_category,guess_idx=category_from_output(output)\n",
        "    correct='✓' if guess_category==category else '✗ (%s)' % category\n",
        "    print('%d %d%% %.4f %s / %s %s' % (iter, iter / n_iters * 100, loss, line, guess_category, correct))\n",
        "  \n",
        "  if iter%plot_every==0:\n",
        "    loss_list.append(current_loss/plot_every)\n",
        "    current_loss=0"
      ],
      "execution_count": 38,
      "outputs": [
        {
          "output_type": "stream",
          "text": [
            "/usr/local/lib/python3.6/dist-packages/ipykernel_launcher.py:21: UserWarning: Implicit dimension choice for log_softmax has been deprecated. Change the call to include dim=X as an argument.\n"
          ],
          "name": "stderr"
        },
        {
          "output_type": "stream",
          "text": [
            "0 0% 2.9108 Guerin / Korean ✗ (French)\n",
            "5000 5% 2.0866 Etxeberria / Polish ✗ (Spanish)\n",
            "10000 10% 2.2904 O'Driscoll / Irish ✓\n",
            "15000 15% 0.3689 Drivakis / Greek ✓\n",
            "20000 20% 2.8129 Togo / Vietnamese ✗ (Japanese)\n",
            "25000 25% 1.2410 Krusen / Dutch ✓\n",
            "30000 30% 2.1342 Rousses / Dutch ✗ (Greek)\n",
            "35000 35% 0.3540 Paschalis / Greek ✓\n",
            "40000 40% 0.8436 O'Connor / Irish ✓\n",
            "45000 45% 0.7826 Akkeren / Dutch ✓\n",
            "50000 50% 2.0983 Pittaluga / Spanish ✗ (Italian)\n",
            "55000 55% 0.3480 Kinashita / Japanese ✓\n",
            "60000 60% 3.2597 Cameron / English ✗ (Scottish)\n",
            "65000 65% 1.0447 White / Scottish ✓\n",
            "70000 70% 1.9403 Rietveld / German ✗ (Dutch)\n",
            "75000 75% 2.2986 Pasternak / Czech ✗ (Polish)\n",
            "80000 80% 1.1833 Andrysiak / Japanese ✗ (Polish)\n",
            "85000 85% 0.4842 Millar / Scottish ✓\n",
            "90000 90% 1.5422 Hole / Scottish ✗ (English)\n",
            "95000 95% 0.4661 Sawamatsu / Japanese ✓\n"
          ],
          "name": "stdout"
        }
      ]
    },
    {
      "cell_type": "code",
      "metadata": {
        "id": "g9X3sJg71506",
        "colab_type": "code",
        "colab": {
          "base_uri": "https://localhost:8080/",
          "height": 285
        },
        "outputId": "1560c027-e040-41a6-ee69-fe75fda58e50"
      },
      "source": [
        "import matplotlib.pyplot as plt\n",
        "import matplotlib.ticker as ticker\n",
        "%matplotlib inline\n",
        "\n",
        "plt.figure()\n",
        "plt.plot(loss_list)"
      ],
      "execution_count": 41,
      "outputs": [
        {
          "output_type": "execute_result",
          "data": {
            "text/plain": [
              "[<matplotlib.lines.Line2D at 0x7efc84bff860>]"
            ]
          },
          "metadata": {
            "tags": []
          },
          "execution_count": 41
        },
        {
          "output_type": "display_data",
          "data": {
            "image/png": "[encoded data removed]",
            "text/plain": [
              "<Figure size 432x288 with 1 Axes>"
            ]
          },
          "metadata": {
            "tags": [],
            "needs_background": "light"
          }
        }
      ]
    },
    {
      "cell_type": "code",
      "metadata": {
        "id": "YRfzXxrI29J_",
        "colab_type": "code",
        "colab": {
          "base_uri": "https://localhost:8080/",
          "height": 357
        },
        "outputId": "d58f6938-ea72-4186-a5f4-cb8f2d3c37db"
      },
      "source": [
        "no_of_languages=len(name_folders)\n",
        "confusion = torch.zeros(no_of_languages, no_of_languages)\n",
        "n_confusion = 10000\n",
        "\n",
        "def evaluate(line_tensor):\n",
        "    hidden = rnn.init_hidden()\n",
        "    \n",
        "    for i in range(line_tensor.size()[0]):\n",
        "        output, hidden = rnn(line_tensor[i], hidden)\n",
        "    \n",
        "    return output\n",
        "\n",
        "for i in range(n_confusion):\n",
        "    category, line, category_tensor, line_tensor = random_training_pair()\n",
        "    output = evaluate(line_tensor)\n",
        "    guess, guess_i = category_from_output(output)\n",
        "    category_i = all_categories.index(category)\n",
        "    confusion[category_i][guess_i] += 1\n",
        "\n",
        "for i in range(no_of_languages):\n",
        "    confusion[i] = confusion[i] / confusion[i].sum()\n",
        "\n",
        "fig = plt.figure()\n",
        "ax = fig.add_subplot(111)\n",
        "cax = ax.matshow(confusion.numpy())\n",
        "fig.colorbar(cax)\n",
        "\n",
        "ax.set_xticklabels([''] + all_categories, rotation=90)\n",
        "ax.set_yticklabels([''] + all_categories)\n",
        "\n",
        "ax.xaxis.set_major_locator(ticker.MultipleLocator(1))\n",
        "ax.yaxis.set_major_locator(ticker.MultipleLocator(1))\n",
        "\n",
        "plt.show()"
      ],
      "execution_count": 43,
      "outputs": [
        {
          "output_type": "stream",
          "text": [
            "/usr/local/lib/python3.6/dist-packages/ipykernel_launcher.py:21: UserWarning: Implicit dimension choice for log_softmax has been deprecated. Change the call to include dim=X as an argument.\n"
          ],
          "name": "stderr"
        },
        {
          "output_type": "display_data",
          "data": {
            "image/png": "[encoded data removed]",
            "text/plain": [
              "<Figure size 432x288 with 2 Axes>"
            ]
          },
          "metadata": {
            "tags": [],
            "needs_background": "light"
          }
        }
      ]
    },
    {
      "cell_type": "code",
      "metadata": {
        "id": "uqVzU1yC3TRh",
        "colab_type": "code",
        "colab": {
          "base_uri": "https://localhost:8080/",
          "height": 139
        },
        "outputId": "f2b60551-3e8a-410a-bb18-c676b7caa53f"
      },
      "source": [
        "def predict(input_line, n_predictions=3):\n",
        "    print('\\n> %s' % input_line)\n",
        "    output = evaluate(Variable(line_to_tensor(input_line)))\n",
        "\n",
        "    topv, topi = output.data.topk(n_predictions, 1, True)\n",
        "    predictions = []\n",
        "\n",
        "    for i in range(n_predictions):\n",
        "        value = topv[0][i]\n",
        "        category_index = topi[0][i]\n",
        "        print('(%.2f) %s' % (value, all_categories[category_index]))\n",
        "        predictions.append([value, all_categories[category_index]])\n",
        "\n",
        "predict('Yasuo')"
      ],
      "execution_count": 48,
      "outputs": [
        {
          "output_type": "stream",
          "text": [
            "\n",
            "> Yasuo\n",
            "(-0.33) Arabic\n",
            "(-2.28) Portuguese\n",
            "(-3.34) Japanese\n"
          ],
          "name": "stdout"
        },
        {
          "output_type": "stream",
          "text": [
            "/usr/local/lib/python3.6/dist-packages/ipykernel_launcher.py:21: UserWarning: Implicit dimension choice for log_softmax has been deprecated. Change the call to include dim=X as an argument.\n"
          ],
          "name": "stderr"
        }
      ]
    },
    {
      "cell_type": "code",
      "metadata": {
        "id": "nytdN2-03gQz",
        "colab_type": "code",
        "colab": {}
      },
      "source": [
        ""
      ],
      "execution_count": null,
      "outputs": []
    }
  ]
}