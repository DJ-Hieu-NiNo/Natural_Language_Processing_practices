{
  "nbformat": 4,
  "nbformat_minor": 0,
  "metadata": {
    "colab": {
      "name": "main.ipynb",
      "provenance": [],
      "collapsed_sections": []
    },
    "kernelspec": {
      "name": "python3",
      "display_name": "Python 3"
    }
  },
  "cells": [
    {
      "cell_type": "code",
      "metadata": {
        "id": "2wx3G_MFAE3P",
        "colab_type": "code",
        "colab": {
          "base_uri": "https://localhost:8080/",
          "height": 34
        },
        "outputId": "a0bd68bc-8a5e-44e4-dcd9-7c57378e60d0"
      },
      "source": [
        "from google.colab import drive\n",
        "drive.mount('/content/gdrive')"
      ],
      "execution_count": 1,
      "outputs": [
        {
          "output_type": "stream",
          "text": [
            "Drive already mounted at /content/gdrive; to attempt to forcibly remount, call drive.mount(\"/content/gdrive\", force_remount=True).\n"
          ],
          "name": "stdout"
        }
      ]
    },
    {
      "cell_type": "markdown",
      "metadata": {
        "id": "ygEgkweZAOK0",
        "colab_type": "text"
      },
      "source": [
        "# **Read Data**"
      ]
    },
    {
      "cell_type": "code",
      "metadata": {
        "id": "VoWIpPIQAM74",
        "colab_type": "code",
        "colab": {
          "base_uri": "https://localhost:8080/",
          "height": 136
        },
        "outputId": "c94dee1b-432b-4d75-95df-78f7ac50b7da"
      },
      "source": [
        "import pandas as pd\n",
        "\n",
        "dataset=pd.read_csv(\"/content/gdrive/My Drive/RNN_name_gender/name_gender.csv\")\n",
        "data=dataset.values\n",
        "\n",
        "n_samples=data.shape[0]-1 #delete the last row, because it will not help.\n",
        "used_data=data[:n_samples,:2] \n",
        "print(\"Used data has shape : \",used_data.shape)\n",
        "print(\"Let's show some samples : \\n\",used_data[:5])"
      ],
      "execution_count": 2,
      "outputs": [
        {
          "output_type": "stream",
          "text": [
            "Used data has shape :  (95025, 2)\n",
            "Let's show some samples : \n",
            " [['Aaban' 'M']\n",
            " ['Aabha' 'F']\n",
            " ['Aabid' 'M']\n",
            " ['Aabriella' 'F']\n",
            " ['Aada' 'F']]\n"
          ],
          "name": "stdout"
        }
      ]
    },
    {
      "cell_type": "markdown",
      "metadata": {
        "id": "RQua60YtM2lr",
        "colab_type": "text"
      },
      "source": [
        "# **Label from 'M'/'F' to 0 / 1**"
      ]
    },
    {
      "cell_type": "code",
      "metadata": {
        "id": "lP7rhzu6NDJl",
        "colab_type": "code",
        "colab": {
          "base_uri": "https://localhost:8080/",
          "height": 102
        },
        "outputId": "1fd55f74-cfb4-427b-a8ec-e7288ea5d15d"
      },
      "source": [
        "import numpy as np\n",
        "\n",
        "m_idx=np.where(used_data[:,1]=='M')\n",
        "f_idx=np.where(used_data[:,1]=='F')\n",
        "used_data[m_idx,1]=0\n",
        "used_data[f_idx,1]=1\n",
        "print(\"Let's look some samples after converting gender labels : \",used_data[:5])"
      ],
      "execution_count": 3,
      "outputs": [
        {
          "output_type": "stream",
          "text": [
            "Let's look some samples after converting gender labels :  [['Aaban' 0]\n",
            " ['Aabha' 1]\n",
            " ['Aabid' 0]\n",
            " ['Aabriella' 1]\n",
            " ['Aada' 1]]\n"
          ],
          "name": "stdout"
        }
      ]
    },
    {
      "cell_type": "markdown",
      "metadata": {
        "id": "94k6OuvRBJNx",
        "colab_type": "text"
      },
      "source": [
        "# **Define dictionary**"
      ]
    },
    {
      "cell_type": "code",
      "metadata": {
        "id": "K4NtML-rAe42",
        "colab_type": "code",
        "colab": {
          "base_uri": "https://localhost:8080/",
          "height": 51
        },
        "outputId": "9b37db0b-bb26-4ac6-85eb-d1d761cdbbb9"
      },
      "source": [
        "import string\n",
        "\n",
        "all_letters=string.ascii_letters # a,b,c,d.....z,A,B,C,D,...,Z\n",
        "dictionary=all_letters[:26] # only need lowercase letter\n",
        "print(\"Dictionary : \",dictionary)\n",
        "print(\"Length of dictionary : \",len(dictionary))\n"
      ],
      "execution_count": 4,
      "outputs": [
        {
          "output_type": "stream",
          "text": [
            "Dictionary :  abcdefghijklmnopqrstuvwxyz\n",
            "Length of dictionary :  26\n"
          ],
          "name": "stdout"
        }
      ]
    },
    {
      "cell_type": "markdown",
      "metadata": {
        "id": "YkIOuBz5C9yU",
        "colab_type": "text"
      },
      "source": [
        "# **Convert name to torch tensor with one-hot encoding method**"
      ]
    },
    {
      "cell_type": "code",
      "metadata": {
        "id": "_iS52PWLCoTe",
        "colab_type": "code",
        "colab": {
          "base_uri": "https://localhost:8080/",
          "height": 255
        },
        "outputId": "a900fe62-b13f-480b-a515-074e95f7c677"
      },
      "source": [
        "import torch\n",
        "\n",
        "n_letters=len(dictionary) #length of dict =26\n",
        "\n",
        "def name_to_tensor(name):\n",
        "  name=name.lower()\n",
        "  tensor=torch.zeros(len(name),1,n_letters) #each letter is an one-hot vector\n",
        "  for idx,letter in enumerate(name):\n",
        "    letter_idx=dictionary.find(letter)\n",
        "    tensor[idx][0][letter_idx]=1\n",
        "  return tensor\n",
        "\n",
        "#test an example\n",
        "print(\"Tensor for name : 'Hieu' : \\n\",name_to_tensor(\"Hieu\"))\n",
        "print(name_to_tensor(\"Hieu\").shape,\"\\n\")\n"
      ],
      "execution_count": 5,
      "outputs": [
        {
          "output_type": "stream",
          "text": [
            "Tensor for name : 'Hieu' : \n",
            " tensor([[[0., 0., 0., 0., 0., 0., 0., 1., 0., 0., 0., 0., 0., 0., 0., 0., 0.,\n",
            "          0., 0., 0., 0., 0., 0., 0., 0., 0.]],\n",
            "\n",
            "        [[0., 0., 0., 0., 0., 0., 0., 0., 1., 0., 0., 0., 0., 0., 0., 0., 0.,\n",
            "          0., 0., 0., 0., 0., 0., 0., 0., 0.]],\n",
            "\n",
            "        [[0., 0., 0., 0., 1., 0., 0., 0., 0., 0., 0., 0., 0., 0., 0., 0., 0.,\n",
            "          0., 0., 0., 0., 0., 0., 0., 0., 0.]],\n",
            "\n",
            "        [[0., 0., 0., 0., 0., 0., 0., 0., 0., 0., 0., 0., 0., 0., 0., 0., 0.,\n",
            "          0., 0., 0., 1., 0., 0., 0., 0., 0.]]])\n",
            "torch.Size([4, 1, 26]) \n",
            "\n"
          ],
          "name": "stdout"
        }
      ]
    },
    {
      "cell_type": "markdown",
      "metadata": {
        "id": "SHi1cLS5GajJ",
        "colab_type": "text"
      },
      "source": [
        "# **Split Dataset**"
      ]
    },
    {
      "cell_type": "code",
      "metadata": {
        "id": "cPSAtc4vGZ6x",
        "colab_type": "code",
        "colab": {
          "base_uri": "https://localhost:8080/",
          "height": 68
        },
        "outputId": "a0643844-e47b-4c83-eb86-c56f095ad9a1"
      },
      "source": [
        "#split\n",
        "import numpy as np\n",
        "from sklearn.model_selection import train_test_split\n",
        "\n",
        "n_samples=len(used_data)\n",
        "idx_range=np.arange(n_samples) # Get the index from 0 to 95024 \n",
        "#np.random.shuflle(idx_range) #shuffle index\n",
        "\n",
        "X_train,X_test_val,y_train,y_test_val=train_test_split(used_data[:,0],used_data[:,1],test_size=0.2) \n",
        "X_val,X_test,y_val,y_test=train_test_split(X_test_val,y_test_val,test_size=0.5)\n",
        "\n",
        "print(\"Shape of X_train , y_train : \",X_train.shape,y_train.shape)\n",
        "print(\"Shape of X_val, y_val : \",X_val.shape,y_val.shape)\n",
        "print(\"Shape of X_test, y_test : \",X_test.shape, y_test.shape)"
      ],
      "execution_count": 6,
      "outputs": [
        {
          "output_type": "stream",
          "text": [
            "Shape of X_train , y_train :  (76020,) (76020,)\n",
            "Shape of X_val, y_val :  (9502,) (9502,)\n",
            "Shape of X_test, y_test :  (9503,) (9503,)\n"
          ],
          "name": "stdout"
        }
      ]
    },
    {
      "cell_type": "markdown",
      "metadata": {
        "id": "266F5PF6Khnh",
        "colab_type": "text"
      },
      "source": [
        "# **Function to load data while training**"
      ]
    },
    {
      "cell_type": "code",
      "metadata": {
        "id": "-3uVICaYEHKn",
        "colab_type": "code",
        "colab": {
          "base_uri": "https://localhost:8080/",
          "height": 68
        },
        "outputId": "60ff5b56-9b70-4372-9cd5-5e8a4ec2045f"
      },
      "source": [
        "from torch.autograd import Variable \n",
        "\n",
        "def get_data_pair(X,y,idx):\n",
        "  X_=Variable(name_to_tensor(X[idx]))\n",
        "  y_=Variable(torch.tensor([y[idx]]).long())\n",
        "  return X_,y_\n",
        "\n",
        "#test an example : \n",
        "print(X_train[100],y_train[100])\n",
        "print(\"shape X_train_tensor at 100 : \",get_data_pair(X_train,y_train,100)[0].shape)\n",
        "print(\"y_train_tensor at 100 : \",get_data_pair(X_train,y_train,100)[1].shape) \n"
      ],
      "execution_count": 7,
      "outputs": [
        {
          "output_type": "stream",
          "text": [
            "Sausha 1\n",
            "shape X_train_tensor at 100 :  torch.Size([6, 1, 26])\n",
            "y_train_tensor at 100 :  torch.Size([1])\n"
          ],
          "name": "stdout"
        }
      ]
    },
    {
      "cell_type": "markdown",
      "metadata": {
        "id": "gx2BsIk0YHZd",
        "colab_type": "text"
      },
      "source": [
        "# **Define Model and send it to gpu**"
      ]
    },
    {
      "cell_type": "code",
      "metadata": {
        "id": "W1ZPobuVOiyv",
        "colab_type": "code",
        "colab": {}
      },
      "source": [
        "import torch.nn as nn\n",
        "from torch.autograd import Variable \n",
        "\n",
        "class RNN(nn.Module):\n",
        "\n",
        "  def __init__(self,input_size,hidden_size,output_size):\n",
        "    super(RNN,self).__init__()\n",
        "    self.input_size=input_size\n",
        "    self.hidden_size=hidden_size\n",
        "    self.output_size=output_size\n",
        "\n",
        "    self.i2h=nn.Linear(input_size+hidden_size,hidden_size)\n",
        "    self.i2o=nn.Linear(input_size+hidden_size,output_size)\n",
        "\n",
        "    self.softmax=nn.LogSoftmax()\n",
        "\n",
        "  def forward(self,input,hidden):\n",
        "    combined=torch.cat((input,hidden),1)\n",
        "    new_hidden=self.i2h(combined)\n",
        "    output=self.i2o(combined)\n",
        "    output=nn.LeakyReLU(0.02)(output)\n",
        "    output=self.softmax(output)\n",
        "    return output,new_hidden\n",
        "\n",
        "  def init_hidden(self):\n",
        "    return Variable(torch.zeros(1,self.hidden_size))\n",
        "\n",
        "\n",
        "# Device configuration\n",
        "device = torch.device('cuda' if torch.cuda.is_available() else 'cpu')\n",
        "n_hiddens=64\n",
        "n_classes=2\n",
        "rnn=RNN(n_letters,n_hiddens,2).to(device) # input_size=26 , n_hidden =128 , output_size=\n"
      ],
      "execution_count": 8,
      "outputs": []
    },
    {
      "cell_type": "markdown",
      "metadata": {
        "id": "P_2ySfC-YXCg",
        "colab_type": "text"
      },
      "source": [
        "# **Define loss and  optimizer**"
      ]
    },
    {
      "cell_type": "code",
      "metadata": {
        "id": "yHMGXLbxYP94",
        "colab_type": "code",
        "colab": {}
      },
      "source": [
        "criterion=nn.NLLLoss()\n",
        "learning_rate=0.0005\n",
        "optimizer=torch.optim.SGD(rnn.parameters(),lr=learning_rate)\n"
      ],
      "execution_count": 9,
      "outputs": []
    },
    {
      "cell_type": "markdown",
      "metadata": {
        "id": "w1XbujkqYmVw",
        "colab_type": "text"
      },
      "source": [
        "# **Define train function for each name**"
      ]
    },
    {
      "cell_type": "code",
      "metadata": {
        "id": "lTAUWBEIYhvn",
        "colab_type": "code",
        "colab": {}
      },
      "source": [
        "def train(name_tensor,class_tensor,device):\n",
        "  rnn.zero_grad()\n",
        "  hidden=rnn.init_hidden()\n",
        "  hidden=hidden.to(device)\n",
        "\n",
        "  for i in range(name_tensor.size()[0]):\n",
        "    output,hidden=rnn(name_tensor[i],hidden)\n",
        "  \n",
        "  loss=criterion(output,class_tensor)\n",
        "  loss.backward()\n",
        "  optimizer.step()\n",
        "  return output,loss.item()"
      ],
      "execution_count": 10,
      "outputs": []
    },
    {
      "cell_type": "markdown",
      "metadata": {
        "id": "MAvPQ9kGaeYv",
        "colab_type": "text"
      },
      "source": [
        ""
      ]
    },
    {
      "cell_type": "markdown",
      "metadata": {
        "id": "3R_iuyLTY3KQ",
        "colab_type": "text"
      },
      "source": [
        "# **Train**"
      ]
    },
    {
      "cell_type": "code",
      "metadata": {
        "id": "lmNEAURIY2av",
        "colab_type": "code",
        "colab": {
          "base_uri": "https://localhost:8080/",
          "height": 1000
        },
        "outputId": "641520b2-6309-467f-85e6-8cf42e3669f2"
      },
      "source": [
        "epochs = 10\n",
        "print_steps=1000\n",
        "print_all_steps=25000\n",
        "indices_train=np.arange(len(X_train))\n",
        "train_loss_list=[]\n",
        "train_acc_list=[]\n",
        "val_loss_list=[]\n",
        "val_acc_list=[]\n",
        "\n",
        "def evaluate(X,y,device):\n",
        "  loss=0\n",
        "  correct=0\n",
        "  for i in range(len(X)):\n",
        "    name_tensor,class_tensor=get_data_pair(X,y,i)\n",
        "    name_tensor=name_tensor.to(device)\n",
        "    class_tensor=class_tensor.to(device)\n",
        "    hidden=rnn.init_hidden().to(device)\n",
        "    for j in range(name_tensor.size()[0]):\n",
        "      predicted,hidden=rnn(name_tensor[j],hidden)\n",
        "    loss+=criterion(predicted,class_tensor)\n",
        "    idx_predicted=torch.max(predicted.data,1)[1]\n",
        "    correct+=(idx_predicted==class_tensor).sum()\n",
        "  return loss/len(X),correct.item()/len(X)*100\n",
        "\n",
        "\n",
        "for epoch in range(epochs):\n",
        "  train_loss=0\n",
        "  np.random.shuffle(indices_train)\n",
        "  for i,idx in enumerate(indices_train):\n",
        "    name_tensor,class_tensor=get_data_pair(X_train,y_train,idx)\n",
        "    name_tensor=name_tensor.to(device)\n",
        "    class_tensor=class_tensor.to(device)\n",
        "    output,loss=train(name_tensor,class_tensor,device)\n",
        "    train_loss+=loss\n",
        "    if(i%print_steps==0 and i>0 and i%print_all_steps !=0):\n",
        "      print(\"Iter :\",i,\"at epoch: \",epoch+1,\"/ \",epochs,\" Train Loss : \",train_loss/print_steps)\n",
        "      train_loss=0\n",
        "    elif(i%print_all_steps==0 and i>0):\n",
        "      with torch.no_grad():\n",
        "\n",
        "        train_acc=evaluate(X_train,y_train,device)[1] #Calculate acc for all\n",
        "        train_acc_list.append(train_acc)\n",
        "        train_loss_list.append(train_loss/print_steps) #calculate loss after \"print_steps\" training samples and get mean\n",
        "        \n",
        "        val_loss,val_acc=evaluate(X_val,y_val,device)\n",
        "        val_loss_list.append(val_loss)\n",
        "        val_acc_list.append(val_acc)\n",
        "        print(\"Iter: \",i,\"at epoch: \",epoch+1,\"/\",epochs,\" train loss :\",train_loss/print_steps,\"Train acc: \",train_acc,\" val loss: \",val_loss,\" val acc: \",val_acc)\n",
        "        train_loss=0"
      ],
      "execution_count": 11,
      "outputs": [
        {
          "output_type": "stream",
          "text": [
            "/usr/local/lib/python3.6/dist-packages/ipykernel_launcher.py:22: UserWarning: Implicit dimension choice for log_softmax has been deprecated. Change the call to include dim=X as an argument.\n"
          ],
          "name": "stderr"
        },
        {
          "output_type": "stream",
          "text": [
            "Iter : 1000 at epoch:  1 /  10  Train Loss :  0.6938831470012665\n",
            "Iter : 2000 at epoch:  1 /  10  Train Loss :  0.6931130584478379\n",
            "Iter : 3000 at epoch:  1 /  10  Train Loss :  0.6932850676774979\n",
            "Iter : 4000 at epoch:  1 /  10  Train Loss :  0.6930759158134461\n",
            "Iter : 5000 at epoch:  1 /  10  Train Loss :  0.6926899731159211\n",
            "Iter : 6000 at epoch:  1 /  10  Train Loss :  0.6929932457208633\n",
            "Iter : 7000 at epoch:  1 /  10  Train Loss :  0.6931685853600502\n",
            "Iter : 8000 at epoch:  1 /  10  Train Loss :  0.6927827689647674\n",
            "Iter : 9000 at epoch:  1 /  10  Train Loss :  0.6923655796051026\n",
            "Iter : 10000 at epoch:  1 /  10  Train Loss :  0.6923891479969024\n",
            "Iter : 11000 at epoch:  1 /  10  Train Loss :  0.6923407233357429\n",
            "Iter : 12000 at epoch:  1 /  10  Train Loss :  0.6916946773529052\n",
            "Iter : 13000 at epoch:  1 /  10  Train Loss :  0.6920001274347305\n",
            "Iter : 14000 at epoch:  1 /  10  Train Loss :  0.6920231842398643\n",
            "Iter : 15000 at epoch:  1 /  10  Train Loss :  0.6903069588541985\n",
            "Iter : 16000 at epoch:  1 /  10  Train Loss :  0.6913735882043839\n",
            "Iter : 17000 at epoch:  1 /  10  Train Loss :  0.6907939492464066\n",
            "Iter : 18000 at epoch:  1 /  10  Train Loss :  0.6908727324008942\n",
            "Iter : 19000 at epoch:  1 /  10  Train Loss :  0.6912129235267639\n",
            "Iter : 20000 at epoch:  1 /  10  Train Loss :  0.6907333930134774\n",
            "Iter : 21000 at epoch:  1 /  10  Train Loss :  0.6877181922197342\n",
            "Iter : 22000 at epoch:  1 /  10  Train Loss :  0.688869978427887\n",
            "Iter : 23000 at epoch:  1 /  10  Train Loss :  0.6881675400137901\n",
            "Iter : 24000 at epoch:  1 /  10  Train Loss :  0.6898895789384842\n",
            "Iter:  25000 at epoch:  1 / 10  train loss : 0.688013046503067 Train acc:  52.141541699552754  val loss:  tensor(0.6874)  val acc:  52.94674805304147\n",
            "Iter : 26000 at epoch:  1 /  10  Train Loss :  0.6875343594551087\n",
            "Iter : 27000 at epoch:  1 /  10  Train Loss :  0.6859699254631996\n",
            "Iter : 28000 at epoch:  1 /  10  Train Loss :  0.6860607196688652\n",
            "Iter : 29000 at epoch:  1 /  10  Train Loss :  0.6790904536247253\n",
            "Iter : 30000 at epoch:  1 /  10  Train Loss :  0.6543984795212746\n",
            "Iter : 31000 at epoch:  1 /  10  Train Loss :  0.6369551689624786\n",
            "Iter : 32000 at epoch:  1 /  10  Train Loss :  0.6306156782209873\n",
            "Iter : 33000 at epoch:  1 /  10  Train Loss :  0.611599212706089\n",
            "Iter : 34000 at epoch:  1 /  10  Train Loss :  0.6106340527534485\n",
            "Iter : 35000 at epoch:  1 /  10  Train Loss :  0.5849255965054035\n",
            "Iter : 36000 at epoch:  1 /  10  Train Loss :  0.5838979454934597\n",
            "Iter : 37000 at epoch:  1 /  10  Train Loss :  0.5704732244610786\n",
            "Iter : 38000 at epoch:  1 /  10  Train Loss :  0.5695843275487423\n",
            "Iter : 39000 at epoch:  1 /  10  Train Loss :  0.56728076004982\n",
            "Iter : 40000 at epoch:  1 /  10  Train Loss :  0.5635471991300582\n",
            "Iter : 41000 at epoch:  1 /  10  Train Loss :  0.5626557013094425\n",
            "Iter : 42000 at epoch:  1 /  10  Train Loss :  0.5565256702452898\n",
            "Iter : 43000 at epoch:  1 /  10  Train Loss :  0.5444831003844738\n",
            "Iter : 44000 at epoch:  1 /  10  Train Loss :  0.5379573603719473\n",
            "Iter : 45000 at epoch:  1 /  10  Train Loss :  0.5376271513104439\n",
            "Iter : 46000 at epoch:  1 /  10  Train Loss :  0.5089439195394516\n",
            "Iter : 47000 at epoch:  1 /  10  Train Loss :  0.525265211686492\n",
            "Iter : 48000 at epoch:  1 /  10  Train Loss :  0.5153803622126579\n",
            "Iter : 49000 at epoch:  1 /  10  Train Loss :  0.5212247769981623\n",
            "Iter:  50000 at epoch:  1 / 10  train loss : 0.5052151473909616 Train acc:  77.51118126808734  val loss:  tensor(0.5127)  val acc:  77.60471479688486\n",
            "Iter : 51000 at epoch:  1 /  10  Train Loss :  0.5021778487414121\n",
            "Iter : 52000 at epoch:  1 /  10  Train Loss :  0.5014774850606918\n",
            "Iter : 53000 at epoch:  1 /  10  Train Loss :  0.49318730491399765\n",
            "Iter : 54000 at epoch:  1 /  10  Train Loss :  0.5005139092504978\n",
            "Iter : 55000 at epoch:  1 /  10  Train Loss :  0.5083798033595085\n",
            "Iter : 56000 at epoch:  1 /  10  Train Loss :  0.48439319636672734\n",
            "Iter : 57000 at epoch:  1 /  10  Train Loss :  0.4904464971423149\n",
            "Iter : 58000 at epoch:  1 /  10  Train Loss :  0.48227199011296035\n",
            "Iter : 59000 at epoch:  1 /  10  Train Loss :  0.4719827966839075\n",
            "Iter : 60000 at epoch:  1 /  10  Train Loss :  0.4831282996609807\n",
            "Iter : 61000 at epoch:  1 /  10  Train Loss :  0.4996154144108295\n",
            "Iter : 62000 at epoch:  1 /  10  Train Loss :  0.4816029041856527\n",
            "Iter : 63000 at epoch:  1 /  10  Train Loss :  0.47244579791277647\n",
            "Iter : 64000 at epoch:  1 /  10  Train Loss :  0.47678435944765807\n",
            "Iter : 65000 at epoch:  1 /  10  Train Loss :  0.46637077049911024\n",
            "Iter : 66000 at epoch:  1 /  10  Train Loss :  0.481122334562242\n",
            "Iter : 67000 at epoch:  1 /  10  Train Loss :  0.4788230795562267\n",
            "Iter : 68000 at epoch:  1 /  10  Train Loss :  0.4740007617250085\n",
            "Iter : 69000 at epoch:  1 /  10  Train Loss :  0.471143381126225\n",
            "Iter : 70000 at epoch:  1 /  10  Train Loss :  0.4577759057730436\n",
            "Iter : 71000 at epoch:  1 /  10  Train Loss :  0.4589561364836991\n",
            "Iter : 72000 at epoch:  1 /  10  Train Loss :  0.460763072066009\n",
            "Iter : 73000 at epoch:  1 /  10  Train Loss :  0.45900741999968886\n",
            "Iter : 74000 at epoch:  1 /  10  Train Loss :  0.45911379680782555\n",
            "Iter:  75000 at epoch:  1 / 10  train loss : 0.458255045928061 Train acc:  80.37884767166535  val loss:  tensor(0.4519)  val acc:  80.83561355504104\n",
            "Iter : 76000 at epoch:  1 /  10  Train Loss :  0.46002448875829577\n",
            "Iter : 1000 at epoch:  2 /  10  Train Loss :  0.4363856363482773\n",
            "Iter : 2000 at epoch:  2 /  10  Train Loss :  0.4400932065658271\n",
            "Iter : 3000 at epoch:  2 /  10  Train Loss :  0.46330513382330535\n",
            "Iter : 4000 at epoch:  2 /  10  Train Loss :  0.4591168260537088\n",
            "Iter : 5000 at epoch:  2 /  10  Train Loss :  0.4391262862496078\n",
            "Iter : 6000 at epoch:  2 /  10  Train Loss :  0.4234408364631236\n",
            "Iter : 7000 at epoch:  2 /  10  Train Loss :  0.4292187227755785\n",
            "Iter : 8000 at epoch:  2 /  10  Train Loss :  0.44616483528353273\n",
            "Iter : 9000 at epoch:  2 /  10  Train Loss :  0.43561133519560097\n",
            "Iter : 10000 at epoch:  2 /  10  Train Loss :  0.4414031806178391\n",
            "Iter : 11000 at epoch:  2 /  10  Train Loss :  0.4340401322171092\n",
            "Iter : 12000 at epoch:  2 /  10  Train Loss :  0.44339919639751313\n",
            "Iter : 13000 at epoch:  2 /  10  Train Loss :  0.4225489804465324\n",
            "Iter : 14000 at epoch:  2 /  10  Train Loss :  0.44189834328740835\n",
            "Iter : 15000 at epoch:  2 /  10  Train Loss :  0.44534050339087844\n",
            "Iter : 16000 at epoch:  2 /  10  Train Loss :  0.42644147339463234\n",
            "Iter : 17000 at epoch:  2 /  10  Train Loss :  0.4480750148575753\n",
            "Iter : 18000 at epoch:  2 /  10  Train Loss :  0.41116859318315985\n",
            "Iter : 19000 at epoch:  2 /  10  Train Loss :  0.43232360512390733\n",
            "Iter : 20000 at epoch:  2 /  10  Train Loss :  0.4174752744976431\n",
            "Iter : 21000 at epoch:  2 /  10  Train Loss :  0.41704958068951964\n",
            "Iter : 22000 at epoch:  2 /  10  Train Loss :  0.4307455937117338\n",
            "Iter : 23000 at epoch:  2 /  10  Train Loss :  0.42564580629765986\n",
            "Iter : 24000 at epoch:  2 /  10  Train Loss :  0.4091711374660954\n",
            "Iter:  25000 at epoch:  2 / 10  train loss : 0.4184860056284815 Train acc:  81.03262299394896  val loss:  tensor(0.4194)  val acc:  81.64596926962744\n",
            "Iter : 26000 at epoch:  2 /  10  Train Loss :  0.4307196238040924\n",
            "Iter : 27000 at epoch:  2 /  10  Train Loss :  0.4241481996942312\n",
            "Iter : 28000 at epoch:  2 /  10  Train Loss :  0.4173808456584811\n",
            "Iter : 29000 at epoch:  2 /  10  Train Loss :  0.4202052124608308\n",
            "Iter : 30000 at epoch:  2 /  10  Train Loss :  0.4031353263799101\n",
            "Iter : 31000 at epoch:  2 /  10  Train Loss :  0.40307410573773084\n",
            "Iter : 32000 at epoch:  2 /  10  Train Loss :  0.42656816318817437\n",
            "Iter : 33000 at epoch:  2 /  10  Train Loss :  0.4274948153188452\n",
            "Iter : 34000 at epoch:  2 /  10  Train Loss :  0.4077209866056219\n",
            "Iter : 35000 at epoch:  2 /  10  Train Loss :  0.40701448904909193\n",
            "Iter : 36000 at epoch:  2 /  10  Train Loss :  0.43013256426155566\n",
            "Iter : 37000 at epoch:  2 /  10  Train Loss :  0.41297565896622834\n",
            "Iter : 38000 at epoch:  2 /  10  Train Loss :  0.424398148637265\n",
            "Iter : 39000 at epoch:  2 /  10  Train Loss :  0.4271960267359391\n",
            "Iter : 40000 at epoch:  2 /  10  Train Loss :  0.41442513251677154\n",
            "Iter : 41000 at epoch:  2 /  10  Train Loss :  0.39125423893891276\n",
            "Iter : 42000 at epoch:  2 /  10  Train Loss :  0.4098997758030891\n",
            "Iter : 43000 at epoch:  2 /  10  Train Loss :  0.42029013108462093\n",
            "Iter : 44000 at epoch:  2 /  10  Train Loss :  0.41368391758482903\n",
            "Iter : 45000 at epoch:  2 /  10  Train Loss :  0.45815579300373793\n",
            "Iter : 46000 at epoch:  2 /  10  Train Loss :  0.39837676952034234\n",
            "Iter : 47000 at epoch:  2 /  10  Train Loss :  0.4315052554840222\n",
            "Iter : 48000 at epoch:  2 /  10  Train Loss :  0.40509801601246\n",
            "Iter : 49000 at epoch:  2 /  10  Train Loss :  0.41297537095472214\n",
            "Iter:  50000 at epoch:  2 / 10  train loss : 0.39146228139102457 Train acc:  81.29965798474086  val loss:  tensor(0.4074)  val acc:  81.86697537360556\n",
            "Iter : 51000 at epoch:  2 /  10  Train Loss :  0.40763784113153817\n",
            "Iter : 52000 at epoch:  2 /  10  Train Loss :  0.40176776178739965\n",
            "Iter : 53000 at epoch:  2 /  10  Train Loss :  0.4112043079137802\n",
            "Iter : 54000 at epoch:  2 /  10  Train Loss :  0.38422472098749133\n",
            "Iter : 55000 at epoch:  2 /  10  Train Loss :  0.42570780813414605\n",
            "Iter : 56000 at epoch:  2 /  10  Train Loss :  0.4040608187736943\n",
            "Iter : 57000 at epoch:  2 /  10  Train Loss :  0.4070838792892173\n",
            "Iter : 58000 at epoch:  2 /  10  Train Loss :  0.4120750484922901\n",
            "Iter : 59000 at epoch:  2 /  10  Train Loss :  0.4371120525943115\n",
            "Iter : 60000 at epoch:  2 /  10  Train Loss :  0.4038718854952604\n",
            "Iter : 61000 at epoch:  2 /  10  Train Loss :  0.41339206970017406\n",
            "Iter : 62000 at epoch:  2 /  10  Train Loss :  0.3786337936595082\n",
            "Iter : 63000 at epoch:  2 /  10  Train Loss :  0.41578870052471756\n",
            "Iter : 64000 at epoch:  2 /  10  Train Loss :  0.4062831272641197\n",
            "Iter : 65000 at epoch:  2 /  10  Train Loss :  0.41079564297478643\n",
            "Iter : 66000 at epoch:  2 /  10  Train Loss :  0.4200452754572034\n",
            "Iter : 67000 at epoch:  2 /  10  Train Loss :  0.3958434791034088\n",
            "Iter : 68000 at epoch:  2 /  10  Train Loss :  0.4197470369990915\n",
            "Iter : 69000 at epoch:  2 /  10  Train Loss :  0.43621076972503214\n",
            "Iter : 70000 at epoch:  2 /  10  Train Loss :  0.4153172141285613\n",
            "Iter : 71000 at epoch:  2 /  10  Train Loss :  0.4145066945971921\n",
            "Iter : 72000 at epoch:  2 /  10  Train Loss :  0.4206414971956983\n",
            "Iter : 73000 at epoch:  2 /  10  Train Loss :  0.39293382712919267\n",
            "Iter : 74000 at epoch:  2 /  10  Train Loss :  0.418915689419955\n",
            "Iter:  75000 at epoch:  2 / 10  train loss : 0.4060444967062212 Train acc:  81.38516179952644  val loss:  tensor(0.4012)  val acc:  81.87749947379498\n",
            "Iter : 76000 at epoch:  2 /  10  Train Loss :  0.4127730793459341\n",
            "Iter : 1000 at epoch:  3 /  10  Train Loss :  0.38521932949125764\n",
            "Iter : 2000 at epoch:  3 /  10  Train Loss :  0.3987588834408671\n",
            "Iter : 3000 at epoch:  3 /  10  Train Loss :  0.4244954667724669\n",
            "Iter : 4000 at epoch:  3 /  10  Train Loss :  0.37953645672183484\n",
            "Iter : 5000 at epoch:  3 /  10  Train Loss :  0.40449078538268807\n",
            "Iter : 6000 at epoch:  3 /  10  Train Loss :  0.39107468267576767\n",
            "Iter : 7000 at epoch:  3 /  10  Train Loss :  0.41748408002126963\n",
            "Iter : 8000 at epoch:  3 /  10  Train Loss :  0.40977747088857\n",
            "Iter : 9000 at epoch:  3 /  10  Train Loss :  0.41036001294804736\n",
            "Iter : 10000 at epoch:  3 /  10  Train Loss :  0.38569266071822494\n",
            "Iter : 11000 at epoch:  3 /  10  Train Loss :  0.4066797106387094\n",
            "Iter : 12000 at epoch:  3 /  10  Train Loss :  0.40667310494789854\n",
            "Iter : 13000 at epoch:  3 /  10  Train Loss :  0.40443693435471506\n",
            "Iter : 14000 at epoch:  3 /  10  Train Loss :  0.4028242900054902\n",
            "Iter : 15000 at epoch:  3 /  10  Train Loss :  0.3951543935649097\n",
            "Iter : 16000 at epoch:  3 /  10  Train Loss :  0.3891234483234584\n",
            "Iter : 17000 at epoch:  3 /  10  Train Loss :  0.42687724966835233\n",
            "Iter : 18000 at epoch:  3 /  10  Train Loss :  0.382850118085742\n",
            "Iter : 19000 at epoch:  3 /  10  Train Loss :  0.4167013239315711\n",
            "Iter : 20000 at epoch:  3 /  10  Train Loss :  0.4139686423242092\n",
            "Iter : 21000 at epoch:  3 /  10  Train Loss :  0.3804364621480927\n",
            "Iter : 22000 at epoch:  3 /  10  Train Loss :  0.40951329658925534\n",
            "Iter : 23000 at epoch:  3 /  10  Train Loss :  0.39163737029209733\n",
            "Iter : 24000 at epoch:  3 /  10  Train Loss :  0.3909913632958196\n",
            "Iter:  25000 at epoch:  3 / 10  train loss : 0.36029704747442154 Train acc:  81.97184951328597  val loss:  tensor(0.3994)  val acc:  82.0037886760682\n",
            "Iter : 26000 at epoch:  3 /  10  Train Loss :  0.40122192400414497\n",
            "Iter : 27000 at epoch:  3 /  10  Train Loss :  0.39877237215358763\n",
            "Iter : 28000 at epoch:  3 /  10  Train Loss :  0.42534071872150525\n",
            "Iter : 29000 at epoch:  3 /  10  Train Loss :  0.3822133807959035\n",
            "Iter : 30000 at epoch:  3 /  10  Train Loss :  0.41227908576419575\n",
            "Iter : 31000 at epoch:  3 /  10  Train Loss :  0.4001337052327581\n",
            "Iter : 32000 at epoch:  3 /  10  Train Loss :  0.38570840227045117\n",
            "Iter : 33000 at epoch:  3 /  10  Train Loss :  0.3745860292254947\n",
            "Iter : 34000 at epoch:  3 /  10  Train Loss :  0.4203911629873328\n",
            "Iter : 35000 at epoch:  3 /  10  Train Loss :  0.3956296071992256\n",
            "Iter : 36000 at epoch:  3 /  10  Train Loss :  0.4201518112141639\n",
            "Iter : 37000 at epoch:  3 /  10  Train Loss :  0.394776117740199\n",
            "Iter : 38000 at epoch:  3 /  10  Train Loss :  0.3920598865970969\n",
            "Iter : 39000 at epoch:  3 /  10  Train Loss :  0.37884303629305216\n",
            "Iter : 40000 at epoch:  3 /  10  Train Loss :  0.42869975440390407\n",
            "Iter : 41000 at epoch:  3 /  10  Train Loss :  0.4140956279328093\n",
            "Iter : 42000 at epoch:  3 /  10  Train Loss :  0.3947895593913272\n",
            "Iter : 43000 at epoch:  3 /  10  Train Loss :  0.4130202713916078\n",
            "Iter : 44000 at epoch:  3 /  10  Train Loss :  0.37316690491884946\n",
            "Iter : 45000 at epoch:  3 /  10  Train Loss :  0.38206061148550363\n",
            "Iter : 46000 at epoch:  3 /  10  Train Loss :  0.37359296340867876\n",
            "Iter : 47000 at epoch:  3 /  10  Train Loss :  0.3837287299791351\n",
            "Iter : 48000 at epoch:  3 /  10  Train Loss :  0.3908840377354063\n",
            "Iter : 49000 at epoch:  3 /  10  Train Loss :  0.3834569983058609\n",
            "Iter:  50000 at epoch:  3 / 10  train loss : 0.4053951234528795 Train acc:  82.2336227308603  val loss:  tensor(0.3918)  val acc:  82.34055988213008\n",
            "Iter : 51000 at epoch:  3 /  10  Train Loss :  0.38713444441743194\n",
            "Iter : 52000 at epoch:  3 /  10  Train Loss :  0.42455228996975347\n",
            "Iter : 53000 at epoch:  3 /  10  Train Loss :  0.40831294531188905\n",
            "Iter : 54000 at epoch:  3 /  10  Train Loss :  0.3805187948141247\n",
            "Iter : 55000 at epoch:  3 /  10  Train Loss :  0.3880260398387909\n",
            "Iter : 56000 at epoch:  3 /  10  Train Loss :  0.4056948759946972\n",
            "Iter : 57000 at epoch:  3 /  10  Train Loss :  0.3606245624860749\n",
            "Iter : 58000 at epoch:  3 /  10  Train Loss :  0.3943559893565252\n",
            "Iter : 59000 at epoch:  3 /  10  Train Loss :  0.3883158791037276\n",
            "Iter : 60000 at epoch:  3 /  10  Train Loss :  0.4186493135252968\n",
            "Iter : 61000 at epoch:  3 /  10  Train Loss :  0.3901646371250972\n",
            "Iter : 62000 at epoch:  3 /  10  Train Loss :  0.37777756081335245\n",
            "Iter : 63000 at epoch:  3 /  10  Train Loss :  0.39558453314146025\n",
            "Iter : 64000 at epoch:  3 /  10  Train Loss :  0.38627000152273105\n",
            "Iter : 65000 at epoch:  3 /  10  Train Loss :  0.3983508405671455\n",
            "Iter : 66000 at epoch:  3 /  10  Train Loss :  0.3730593977519311\n",
            "Iter : 67000 at epoch:  3 /  10  Train Loss :  0.4190006326250732\n",
            "Iter : 68000 at epoch:  3 /  10  Train Loss :  0.38580097096506505\n",
            "Iter : 69000 at epoch:  3 /  10  Train Loss :  0.376056450383272\n",
            "Iter : 70000 at epoch:  3 /  10  Train Loss :  0.3959238382955082\n",
            "Iter : 71000 at epoch:  3 /  10  Train Loss :  0.3891377834295854\n",
            "Iter : 72000 at epoch:  3 /  10  Train Loss :  0.3796579276942648\n",
            "Iter : 73000 at epoch:  3 /  10  Train Loss :  0.40444015101715924\n",
            "Iter : 74000 at epoch:  3 /  10  Train Loss :  0.414997859260533\n",
            "Iter:  75000 at epoch:  3 / 10  train loss : 0.3897647155309096 Train acc:  82.06129965798475  val loss:  tensor(0.3902)  val acc:  82.45632498421385\n",
            "Iter : 76000 at epoch:  3 /  10  Train Loss :  0.412962800309062\n",
            "Iter : 1000 at epoch:  4 /  10  Train Loss :  0.36255184186669065\n",
            "Iter : 2000 at epoch:  4 /  10  Train Loss :  0.3892030525971204\n",
            "Iter : 3000 at epoch:  4 /  10  Train Loss :  0.40449724107561635\n",
            "Iter : 4000 at epoch:  4 /  10  Train Loss :  0.39476879442622886\n",
            "Iter : 5000 at epoch:  4 /  10  Train Loss :  0.39994591974653304\n",
            "Iter : 6000 at epoch:  4 /  10  Train Loss :  0.4043517105556093\n",
            "Iter : 7000 at epoch:  4 /  10  Train Loss :  0.3806233493315522\n",
            "Iter : 8000 at epoch:  4 /  10  Train Loss :  0.379612122412771\n",
            "Iter : 9000 at epoch:  4 /  10  Train Loss :  0.3798488090555184\n",
            "Iter : 10000 at epoch:  4 /  10  Train Loss :  0.3774242725339718\n",
            "Iter : 11000 at epoch:  4 /  10  Train Loss :  0.38180016306741166\n",
            "Iter : 12000 at epoch:  4 /  10  Train Loss :  0.4091347319902852\n",
            "Iter : 13000 at epoch:  4 /  10  Train Loss :  0.3807884214175865\n",
            "Iter : 14000 at epoch:  4 /  10  Train Loss :  0.3965081047946587\n",
            "Iter : 15000 at epoch:  4 /  10  Train Loss :  0.3838655570973642\n",
            "Iter : 16000 at epoch:  4 /  10  Train Loss :  0.40048136298544706\n",
            "Iter : 17000 at epoch:  4 /  10  Train Loss :  0.3976723932530731\n",
            "Iter : 18000 at epoch:  4 /  10  Train Loss :  0.40797079165652395\n",
            "Iter : 19000 at epoch:  4 /  10  Train Loss :  0.40617677668249236\n",
            "Iter : 20000 at epoch:  4 /  10  Train Loss :  0.4057573793595657\n",
            "Iter : 21000 at epoch:  4 /  10  Train Loss :  0.42557704931590706\n",
            "Iter : 22000 at epoch:  4 /  10  Train Loss :  0.36126925599947574\n",
            "Iter : 23000 at epoch:  4 /  10  Train Loss :  0.39620905214687807\n",
            "Iter : 24000 at epoch:  4 /  10  Train Loss :  0.38483654961781577\n",
            "Iter:  25000 at epoch:  4 / 10  train loss : 0.41246531161665917 Train acc:  82.2533543804262  val loss:  tensor(0.3879)  val acc:  82.61418648705535\n",
            "Iter : 26000 at epoch:  4 /  10  Train Loss :  0.3741965708388016\n",
            "Iter : 27000 at epoch:  4 /  10  Train Loss :  0.41393487178720534\n",
            "Iter : 28000 at epoch:  4 /  10  Train Loss :  0.41405052412394433\n",
            "Iter : 29000 at epoch:  4 /  10  Train Loss :  0.4024895680951886\n",
            "Iter : 30000 at epoch:  4 /  10  Train Loss :  0.402026495018974\n",
            "Iter : 31000 at epoch:  4 /  10  Train Loss :  0.41753970526484774\n",
            "Iter : 32000 at epoch:  4 /  10  Train Loss :  0.3963563722595572\n",
            "Iter : 33000 at epoch:  4 /  10  Train Loss :  0.3661982310558669\n",
            "Iter : 34000 at epoch:  4 /  10  Train Loss :  0.3649879361637868\n",
            "Iter : 35000 at epoch:  4 /  10  Train Loss :  0.37472056748811156\n",
            "Iter : 36000 at epoch:  4 /  10  Train Loss :  0.36291166670946406\n",
            "Iter : 37000 at epoch:  4 /  10  Train Loss :  0.40020060700038446\n",
            "Iter : 38000 at epoch:  4 /  10  Train Loss :  0.40755435364926235\n",
            "Iter : 39000 at epoch:  4 /  10  Train Loss :  0.38811382338032124\n",
            "Iter : 40000 at epoch:  4 /  10  Train Loss :  0.357114346306771\n",
            "Iter : 41000 at epoch:  4 /  10  Train Loss :  0.39158909051865337\n",
            "Iter : 42000 at epoch:  4 /  10  Train Loss :  0.38379095431766475\n",
            "Iter : 43000 at epoch:  4 /  10  Train Loss :  0.3711337293172255\n",
            "Iter : 44000 at epoch:  4 /  10  Train Loss :  0.3824736365885474\n",
            "Iter : 45000 at epoch:  4 /  10  Train Loss :  0.3498306992854923\n",
            "Iter : 46000 at epoch:  4 /  10  Train Loss :  0.38543924582516775\n",
            "Iter : 47000 at epoch:  4 /  10  Train Loss :  0.4205903225163929\n",
            "Iter : 48000 at epoch:  4 /  10  Train Loss :  0.39642348401714117\n",
            "Iter : 49000 at epoch:  4 /  10  Train Loss :  0.38058418602123856\n",
            "Iter:  50000 at epoch:  4 / 10  train loss : 0.37521604481618853 Train acc:  82.63877926861353  val loss:  tensor(0.3871)  val acc:  82.62471058724479\n",
            "Iter : 51000 at epoch:  4 /  10  Train Loss :  0.3684828184926882\n",
            "Iter : 52000 at epoch:  4 /  10  Train Loss :  0.38798637441825123\n",
            "Iter : 53000 at epoch:  4 /  10  Train Loss :  0.37357734610605986\n",
            "Iter : 54000 at epoch:  4 /  10  Train Loss :  0.3864259253302589\n",
            "Iter : 55000 at epoch:  4 /  10  Train Loss :  0.4334394261897542\n",
            "Iter : 56000 at epoch:  4 /  10  Train Loss :  0.379401283592917\n",
            "Iter : 57000 at epoch:  4 /  10  Train Loss :  0.40521771448431537\n",
            "Iter : 58000 at epoch:  4 /  10  Train Loss :  0.3870182769712992\n",
            "Iter : 59000 at epoch:  4 /  10  Train Loss :  0.3854950332303997\n",
            "Iter : 60000 at epoch:  4 /  10  Train Loss :  0.39514801363670266\n",
            "Iter : 61000 at epoch:  4 /  10  Train Loss :  0.3795538945747539\n",
            "Iter : 62000 at epoch:  4 /  10  Train Loss :  0.4174836088134907\n",
            "Iter : 63000 at epoch:  4 /  10  Train Loss :  0.3749969419375993\n",
            "Iter : 64000 at epoch:  4 /  10  Train Loss :  0.3786730473302305\n",
            "Iter : 65000 at epoch:  4 /  10  Train Loss :  0.38593091246299444\n",
            "Iter : 66000 at epoch:  4 /  10  Train Loss :  0.34492382845981046\n",
            "Iter : 67000 at epoch:  4 /  10  Train Loss :  0.3872517413245514\n",
            "Iter : 68000 at epoch:  4 /  10  Train Loss :  0.39867715539364146\n",
            "Iter : 69000 at epoch:  4 /  10  Train Loss :  0.3726087908113841\n",
            "Iter : 70000 at epoch:  4 /  10  Train Loss :  0.4144292774894275\n",
            "Iter : 71000 at epoch:  4 /  10  Train Loss :  0.4038372378991917\n",
            "Iter : 72000 at epoch:  4 /  10  Train Loss :  0.3595981885236688\n",
            "Iter : 73000 at epoch:  4 /  10  Train Loss :  0.40710457948595286\n",
            "Iter : 74000 at epoch:  4 /  10  Train Loss :  0.40779016035608945\n",
            "Iter:  75000 at epoch:  4 / 10  train loss : 0.36374001849722115 Train acc:  82.47040252565114  val loss:  tensor(0.3840)  val acc:  82.64575878762366\n",
            "Iter : 76000 at epoch:  4 /  10  Train Loss :  0.3774862705180421\n",
            "Iter : 1000 at epoch:  5 /  10  Train Loss :  0.3815617995932698\n",
            "Iter : 2000 at epoch:  5 /  10  Train Loss :  0.3864686023420654\n",
            "Iter : 3000 at epoch:  5 /  10  Train Loss :  0.37677510946057735\n",
            "Iter : 4000 at epoch:  5 /  10  Train Loss :  0.3569651084551588\n",
            "Iter : 5000 at epoch:  5 /  10  Train Loss :  0.39228836487256924\n",
            "Iter : 6000 at epoch:  5 /  10  Train Loss :  0.40416608023876327\n",
            "Iter : 7000 at epoch:  5 /  10  Train Loss :  0.3746691923572216\n",
            "Iter : 8000 at epoch:  5 /  10  Train Loss :  0.39296527311229146\n",
            "Iter : 9000 at epoch:  5 /  10  Train Loss :  0.416562045305036\n",
            "Iter : 10000 at epoch:  5 /  10  Train Loss :  0.3898539644582197\n",
            "Iter : 11000 at epoch:  5 /  10  Train Loss :  0.3797958785726223\n",
            "Iter : 12000 at epoch:  5 /  10  Train Loss :  0.3798848861285951\n",
            "Iter : 13000 at epoch:  5 /  10  Train Loss :  0.37927970395749433\n",
            "Iter : 14000 at epoch:  5 /  10  Train Loss :  0.3709107344346121\n",
            "Iter : 15000 at epoch:  5 /  10  Train Loss :  0.40404832700733095\n",
            "Iter : 16000 at epoch:  5 /  10  Train Loss :  0.39040407427004536\n",
            "Iter : 17000 at epoch:  5 /  10  Train Loss :  0.4139655648809858\n",
            "Iter : 18000 at epoch:  5 /  10  Train Loss :  0.39333613886591046\n",
            "Iter : 19000 at epoch:  5 /  10  Train Loss :  0.3929655999969691\n",
            "Iter : 20000 at epoch:  5 /  10  Train Loss :  0.3987849711915478\n",
            "Iter : 21000 at epoch:  5 /  10  Train Loss :  0.3795007161295507\n",
            "Iter : 22000 at epoch:  5 /  10  Train Loss :  0.3707851727413945\n",
            "Iter : 23000 at epoch:  5 /  10  Train Loss :  0.36709022044343875\n",
            "Iter : 24000 at epoch:  5 /  10  Train Loss :  0.4133722466113977\n",
            "Iter:  25000 at epoch:  5 / 10  train loss : 0.4175577509033028 Train acc:  82.92291502236253  val loss:  tensor(0.3823)  val acc:  82.96148179330667\n",
            "Iter : 26000 at epoch:  5 /  10  Train Loss :  0.38962376467650756\n",
            "Iter : 27000 at epoch:  5 /  10  Train Loss :  0.3476943872901611\n",
            "Iter : 28000 at epoch:  5 /  10  Train Loss :  0.3877226867978461\n",
            "Iter : 29000 at epoch:  5 /  10  Train Loss :  0.39264047891367226\n",
            "Iter : 30000 at epoch:  5 /  10  Train Loss :  0.3850721437509637\n",
            "Iter : 31000 at epoch:  5 /  10  Train Loss :  0.3841292882533744\n",
            "Iter : 32000 at epoch:  5 /  10  Train Loss :  0.3962922963430174\n",
            "Iter : 33000 at epoch:  5 /  10  Train Loss :  0.3865314935790375\n",
            "Iter : 34000 at epoch:  5 /  10  Train Loss :  0.3626045445110649\n",
            "Iter : 35000 at epoch:  5 /  10  Train Loss :  0.3809672332690097\n",
            "Iter : 36000 at epoch:  5 /  10  Train Loss :  0.3749423719663173\n",
            "Iter : 37000 at epoch:  5 /  10  Train Loss :  0.3889282472091727\n",
            "Iter : 38000 at epoch:  5 /  10  Train Loss :  0.3639796467428096\n",
            "Iter : 39000 at epoch:  5 /  10  Train Loss :  0.3635287987741176\n",
            "Iter : 40000 at epoch:  5 /  10  Train Loss :  0.36084594375290907\n",
            "Iter : 41000 at epoch:  5 /  10  Train Loss :  0.3520989623293281\n",
            "Iter : 42000 at epoch:  5 /  10  Train Loss :  0.3759433621203061\n",
            "Iter : 43000 at epoch:  5 /  10  Train Loss :  0.38695323855988684\n",
            "Iter : 44000 at epoch:  5 /  10  Train Loss :  0.3934239982748404\n",
            "Iter : 45000 at epoch:  5 /  10  Train Loss :  0.37814466519420964\n",
            "Iter : 46000 at epoch:  5 /  10  Train Loss :  0.40566092729754744\n",
            "Iter : 47000 at epoch:  5 /  10  Train Loss :  0.37767997693968935\n",
            "Iter : 48000 at epoch:  5 /  10  Train Loss :  0.384276487155119\n",
            "Iter : 49000 at epoch:  5 /  10  Train Loss :  0.37365146108483893\n",
            "Iter:  50000 at epoch:  5 / 10  train loss : 0.3456549244998023 Train acc:  82.79531702183635  val loss:  tensor(0.3806)  val acc:  82.78257209008629\n",
            "Iter : 51000 at epoch:  5 /  10  Train Loss :  0.40896099753142334\n",
            "Iter : 52000 at epoch:  5 /  10  Train Loss :  0.40215301089780403\n",
            "Iter : 53000 at epoch:  5 /  10  Train Loss :  0.3784348856911529\n",
            "Iter : 54000 at epoch:  5 /  10  Train Loss :  0.38234045886294915\n",
            "Iter : 55000 at epoch:  5 /  10  Train Loss :  0.4190676328309346\n",
            "Iter : 56000 at epoch:  5 /  10  Train Loss :  0.3837090561420191\n",
            "Iter : 57000 at epoch:  5 /  10  Train Loss :  0.3760162343243137\n",
            "Iter : 58000 at epoch:  5 /  10  Train Loss :  0.36720924110617487\n",
            "Iter : 59000 at epoch:  5 /  10  Train Loss :  0.39093426358001304\n",
            "Iter : 60000 at epoch:  5 /  10  Train Loss :  0.40917912139184776\n",
            "Iter : 61000 at epoch:  5 /  10  Train Loss :  0.3622564000685234\n",
            "Iter : 62000 at epoch:  5 /  10  Train Loss :  0.39127198210265485\n",
            "Iter : 63000 at epoch:  5 /  10  Train Loss :  0.38552879164135084\n",
            "Iter : 64000 at epoch:  5 /  10  Train Loss :  0.3860909239759203\n",
            "Iter : 65000 at epoch:  5 /  10  Train Loss :  0.40214033496426416\n",
            "Iter : 66000 at epoch:  5 /  10  Train Loss :  0.4035360380075872\n",
            "Iter : 67000 at epoch:  5 /  10  Train Loss :  0.3685996131468564\n",
            "Iter : 68000 at epoch:  5 /  10  Train Loss :  0.3602748919799924\n",
            "Iter : 69000 at epoch:  5 /  10  Train Loss :  0.3620548560179304\n",
            "Iter : 70000 at epoch:  5 /  10  Train Loss :  0.38394446863769555\n",
            "Iter : 71000 at epoch:  5 /  10  Train Loss :  0.4007291281330399\n",
            "Iter : 72000 at epoch:  5 /  10  Train Loss :  0.3830939060344826\n",
            "Iter : 73000 at epoch:  5 /  10  Train Loss :  0.3829029196877964\n",
            "Iter : 74000 at epoch:  5 /  10  Train Loss :  0.39451082042744384\n",
            "Iter:  75000 at epoch:  5 / 10  train loss : 0.4037365180333145 Train acc:  82.86766640357801  val loss:  tensor(0.3802)  val acc:  82.91938539254893\n",
            "Iter : 76000 at epoch:  5 /  10  Train Loss :  0.3932489275042899\n",
            "Iter : 1000 at epoch:  6 /  10  Train Loss :  0.35519970703078435\n",
            "Iter : 2000 at epoch:  6 /  10  Train Loss :  0.3850845740409568\n",
            "Iter : 3000 at epoch:  6 /  10  Train Loss :  0.3799564800285734\n",
            "Iter : 4000 at epoch:  6 /  10  Train Loss :  0.3667708556826692\n",
            "Iter : 5000 at epoch:  6 /  10  Train Loss :  0.3731504618264735\n",
            "Iter : 6000 at epoch:  6 /  10  Train Loss :  0.41326418980839663\n",
            "Iter : 7000 at epoch:  6 /  10  Train Loss :  0.36558293799334207\n",
            "Iter : 8000 at epoch:  6 /  10  Train Loss :  0.3763304829709232\n",
            "Iter : 9000 at epoch:  6 /  10  Train Loss :  0.420156225934159\n",
            "Iter : 10000 at epoch:  6 /  10  Train Loss :  0.3879503939230926\n",
            "Iter : 11000 at epoch:  6 /  10  Train Loss :  0.36319096440123394\n",
            "Iter : 12000 at epoch:  6 /  10  Train Loss :  0.39298469641478734\n",
            "Iter : 13000 at epoch:  6 /  10  Train Loss :  0.40764894358813764\n",
            "Iter : 14000 at epoch:  6 /  10  Train Loss :  0.38950401658471673\n",
            "Iter : 15000 at epoch:  6 /  10  Train Loss :  0.3638231990542263\n",
            "Iter : 16000 at epoch:  6 /  10  Train Loss :  0.3823224436719902\n",
            "Iter : 17000 at epoch:  6 /  10  Train Loss :  0.39387840325711293\n",
            "Iter : 18000 at epoch:  6 /  10  Train Loss :  0.3998129042969085\n",
            "Iter : 19000 at epoch:  6 /  10  Train Loss :  0.3962379906794522\n",
            "Iter : 20000 at epoch:  6 /  10  Train Loss :  0.3962033074297942\n",
            "Iter : 21000 at epoch:  6 /  10  Train Loss :  0.36952606682572514\n",
            "Iter : 22000 at epoch:  6 /  10  Train Loss :  0.39114106011902916\n",
            "Iter : 23000 at epoch:  6 /  10  Train Loss :  0.38002331181499177\n",
            "Iter : 24000 at epoch:  6 /  10  Train Loss :  0.38276205269619823\n",
            "Iter:  25000 at epoch:  6 / 10  train loss : 0.3910826690823305 Train acc:  83.07156011575901  val loss:  tensor(0.3803)  val acc:  83.08777099557987\n",
            "Iter : 26000 at epoch:  6 /  10  Train Loss :  0.37144222122617065\n",
            "Iter : 27000 at epoch:  6 /  10  Train Loss :  0.41057995303161443\n",
            "Iter : 28000 at epoch:  6 /  10  Train Loss :  0.3882667538910173\n",
            "Iter : 29000 at epoch:  6 /  10  Train Loss :  0.39299879353120926\n",
            "Iter : 30000 at epoch:  6 /  10  Train Loss :  0.36385995224840006\n",
            "Iter : 31000 at epoch:  6 /  10  Train Loss :  0.37999305527750404\n",
            "Iter : 32000 at epoch:  6 /  10  Train Loss :  0.3686752545540221\n",
            "Iter : 33000 at epoch:  6 /  10  Train Loss :  0.3940147549661342\n",
            "Iter : 34000 at epoch:  6 /  10  Train Loss :  0.38682782675535415\n",
            "Iter : 35000 at epoch:  6 /  10  Train Loss :  0.3785791216879152\n",
            "Iter : 36000 at epoch:  6 /  10  Train Loss :  0.39910885227448306\n",
            "Iter : 37000 at epoch:  6 /  10  Train Loss :  0.351476219211705\n",
            "Iter : 38000 at epoch:  6 /  10  Train Loss :  0.35570154066965914\n",
            "Iter : 39000 at epoch:  6 /  10  Train Loss :  0.38555561669543387\n",
            "Iter : 40000 at epoch:  6 /  10  Train Loss :  0.38167152653308584\n",
            "Iter : 41000 at epoch:  6 /  10  Train Loss :  0.3780357096560765\n",
            "Iter : 42000 at epoch:  6 /  10  Train Loss :  0.3818094681138173\n",
            "Iter : 43000 at epoch:  6 /  10  Train Loss :  0.39457460784679277\n",
            "Iter : 44000 at epoch:  6 /  10  Train Loss :  0.38019724787399173\n",
            "Iter : 45000 at epoch:  6 /  10  Train Loss :  0.3964067815891467\n",
            "Iter : 46000 at epoch:  6 /  10  Train Loss :  0.37700563176139257\n",
            "Iter : 47000 at epoch:  6 /  10  Train Loss :  0.37895474522793665\n",
            "Iter : 48000 at epoch:  6 /  10  Train Loss :  0.3763716499293223\n",
            "Iter : 49000 at epoch:  6 /  10  Train Loss :  0.36750738975801506\n",
            "Iter:  50000 at epoch:  6 / 10  train loss : 0.3663368972921744 Train acc:  82.99394896079978  val loss:  tensor(0.3790)  val acc:  83.0035781940644\n",
            "Iter : 51000 at epoch:  6 /  10  Train Loss :  0.37205389464157634\n",
            "Iter : 52000 at epoch:  6 /  10  Train Loss :  0.3664792601331137\n",
            "Iter : 53000 at epoch:  6 /  10  Train Loss :  0.3948164618038572\n",
            "Iter : 54000 at epoch:  6 /  10  Train Loss :  0.38343674164637925\n",
            "Iter : 55000 at epoch:  6 /  10  Train Loss :  0.3783102221079171\n",
            "Iter : 56000 at epoch:  6 /  10  Train Loss :  0.3759244461704511\n",
            "Iter : 57000 at epoch:  6 /  10  Train Loss :  0.3636339242937975\n",
            "Iter : 58000 at epoch:  6 /  10  Train Loss :  0.3861483645318076\n",
            "Iter : 59000 at epoch:  6 /  10  Train Loss :  0.4049984474389348\n",
            "Iter : 60000 at epoch:  6 /  10  Train Loss :  0.41413226280687376\n",
            "Iter : 61000 at epoch:  6 /  10  Train Loss :  0.37700555638899097\n",
            "Iter : 62000 at epoch:  6 /  10  Train Loss :  0.40621764057152904\n",
            "Iter : 63000 at epoch:  6 /  10  Train Loss :  0.4053103483784944\n",
            "Iter : 64000 at epoch:  6 /  10  Train Loss :  0.3895287864189595\n",
            "Iter : 65000 at epoch:  6 /  10  Train Loss :  0.3238272841540165\n",
            "Iter : 66000 at epoch:  6 /  10  Train Loss :  0.41877218054700643\n",
            "Iter : 67000 at epoch:  6 /  10  Train Loss :  0.38514138281391935\n",
            "Iter : 68000 at epoch:  6 /  10  Train Loss :  0.3636830695234239\n",
            "Iter : 69000 at epoch:  6 /  10  Train Loss :  0.3951184548435267\n",
            "Iter : 70000 at epoch:  6 /  10  Train Loss :  0.3594036249439232\n",
            "Iter : 71000 at epoch:  6 /  10  Train Loss :  0.3560461998360697\n",
            "Iter : 72000 at epoch:  6 /  10  Train Loss :  0.3774297648430802\n",
            "Iter : 73000 at epoch:  6 /  10  Train Loss :  0.41874553402792664\n",
            "Iter : 74000 at epoch:  6 /  10  Train Loss :  0.38682687703403645\n",
            "Iter:  75000 at epoch:  6 / 10  train loss : 0.36164152305107566 Train acc:  83.12417784793476  val loss:  tensor(0.3771)  val acc:  83.27720479898969\n",
            "Iter : 76000 at epoch:  6 /  10  Train Loss :  0.3614129261735361\n",
            "Iter : 1000 at epoch:  7 /  10  Train Loss :  0.38820865665515886\n",
            "Iter : 2000 at epoch:  7 /  10  Train Loss :  0.39019143997924405\n",
            "Iter : 3000 at epoch:  7 /  10  Train Loss :  0.37274495707592\n",
            "Iter : 4000 at epoch:  7 /  10  Train Loss :  0.40437002163310537\n",
            "Iter : 5000 at epoch:  7 /  10  Train Loss :  0.3829531598759349\n",
            "Iter : 6000 at epoch:  7 /  10  Train Loss :  0.39155678189476023\n",
            "Iter : 7000 at epoch:  7 /  10  Train Loss :  0.33353182816971094\n",
            "Iter : 8000 at epoch:  7 /  10  Train Loss :  0.36755754393036477\n",
            "Iter : 9000 at epoch:  7 /  10  Train Loss :  0.3949234603350051\n",
            "Iter : 10000 at epoch:  7 /  10  Train Loss :  0.376938436238328\n",
            "Iter : 11000 at epoch:  7 /  10  Train Loss :  0.39139076875918544\n",
            "Iter : 12000 at epoch:  7 /  10  Train Loss :  0.37512269797292536\n",
            "Iter : 13000 at epoch:  7 /  10  Train Loss :  0.3698385525222402\n",
            "Iter : 14000 at epoch:  7 /  10  Train Loss :  0.367770529237343\n",
            "Iter : 15000 at epoch:  7 /  10  Train Loss :  0.3655415696497075\n",
            "Iter : 16000 at epoch:  7 /  10  Train Loss :  0.36082360573392364\n",
            "Iter : 17000 at epoch:  7 /  10  Train Loss :  0.3996719213437755\n",
            "Iter : 18000 at epoch:  7 /  10  Train Loss :  0.3791979493263643\n",
            "Iter : 19000 at epoch:  7 /  10  Train Loss :  0.3713234887998551\n",
            "Iter : 20000 at epoch:  7 /  10  Train Loss :  0.3759154118199367\n",
            "Iter : 21000 at epoch:  7 /  10  Train Loss :  0.3762841159431264\n",
            "Iter : 22000 at epoch:  7 /  10  Train Loss :  0.36666493006167\n",
            "Iter : 23000 at epoch:  7 /  10  Train Loss :  0.39733407744718713\n",
            "Iter : 24000 at epoch:  7 /  10  Train Loss :  0.3761691023821477\n",
            "Iter:  25000 at epoch:  7 / 10  train loss : 0.3400825038512703 Train acc:  82.7847934754012  val loss:  tensor(0.3796)  val acc:  82.86676489160176\n",
            "Iter : 26000 at epoch:  7 /  10  Train Loss :  0.4034142949602101\n",
            "Iter : 27000 at epoch:  7 /  10  Train Loss :  0.3684175007134909\n",
            "Iter : 28000 at epoch:  7 /  10  Train Loss :  0.4013282842137851\n",
            "Iter : 29000 at epoch:  7 /  10  Train Loss :  0.37387467462639323\n",
            "Iter : 30000 at epoch:  7 /  10  Train Loss :  0.3848291872609407\n",
            "Iter : 31000 at epoch:  7 /  10  Train Loss :  0.39585967498272656\n",
            "Iter : 32000 at epoch:  7 /  10  Train Loss :  0.39350744026061146\n",
            "Iter : 33000 at epoch:  7 /  10  Train Loss :  0.39765154269617053\n",
            "Iter : 34000 at epoch:  7 /  10  Train Loss :  0.40194544351054357\n",
            "Iter : 35000 at epoch:  7 /  10  Train Loss :  0.3588185275392607\n",
            "Iter : 36000 at epoch:  7 /  10  Train Loss :  0.40061280923197046\n",
            "Iter : 37000 at epoch:  7 /  10  Train Loss :  0.3753998700059019\n",
            "Iter : 38000 at epoch:  7 /  10  Train Loss :  0.384759410380153\n",
            "Iter : 39000 at epoch:  7 /  10  Train Loss :  0.3965861728902673\n",
            "Iter : 40000 at epoch:  7 /  10  Train Loss :  0.40420161812915467\n",
            "Iter : 41000 at epoch:  7 /  10  Train Loss :  0.3596198502718471\n",
            "Iter : 42000 at epoch:  7 /  10  Train Loss :  0.36726119886059316\n",
            "Iter : 43000 at epoch:  7 /  10  Train Loss :  0.36339358300319874\n",
            "Iter : 44000 at epoch:  7 /  10  Train Loss :  0.39774719885829835\n",
            "Iter : 45000 at epoch:  7 /  10  Train Loss :  0.3704582873119507\n",
            "Iter : 46000 at epoch:  7 /  10  Train Loss :  0.3927477275519632\n",
            "Iter : 47000 at epoch:  7 /  10  Train Loss :  0.39543181039602493\n",
            "Iter : 48000 at epoch:  7 /  10  Train Loss :  0.38450239466317\n",
            "Iter : 49000 at epoch:  7 /  10  Train Loss :  0.3707432279516943\n",
            "Iter:  50000 at epoch:  7 / 10  train loss : 0.38691385762463326 Train acc:  83.13996316758747  val loss:  tensor(0.3766)  val acc:  83.11934329614819\n",
            "Iter : 51000 at epoch:  7 /  10  Train Loss :  0.3689534702636302\n",
            "Iter : 52000 at epoch:  7 /  10  Train Loss :  0.3790651982659474\n",
            "Iter : 53000 at epoch:  7 /  10  Train Loss :  0.3817941008314956\n",
            "Iter : 54000 at epoch:  7 /  10  Train Loss :  0.38317968194698915\n",
            "Iter : 55000 at epoch:  7 /  10  Train Loss :  0.3945692275762558\n",
            "Iter : 56000 at epoch:  7 /  10  Train Loss :  0.39242603876348586\n",
            "Iter : 57000 at epoch:  7 /  10  Train Loss :  0.3988445566999726\n",
            "Iter : 58000 at epoch:  7 /  10  Train Loss :  0.38999914957210424\n",
            "Iter : 59000 at epoch:  7 /  10  Train Loss :  0.38942841083719393\n",
            "Iter : 60000 at epoch:  7 /  10  Train Loss :  0.40172288168710657\n",
            "Iter : 61000 at epoch:  7 /  10  Train Loss :  0.35912195059238\n",
            "Iter : 62000 at epoch:  7 /  10  Train Loss :  0.38609041287680157\n",
            "Iter : 63000 at epoch:  7 /  10  Train Loss :  0.37741127984644846\n",
            "Iter : 64000 at epoch:  7 /  10  Train Loss :  0.3762231057409663\n",
            "Iter : 65000 at epoch:  7 /  10  Train Loss :  0.3846804760165978\n",
            "Iter : 66000 at epoch:  7 /  10  Train Loss :  0.38627862434391863\n",
            "Iter : 67000 at epoch:  7 /  10  Train Loss :  0.36210160166933203\n",
            "Iter : 68000 at epoch:  7 /  10  Train Loss :  0.38798160377889873\n",
            "Iter : 69000 at epoch:  7 /  10  Train Loss :  0.3787618316404987\n",
            "Iter : 70000 at epoch:  7 /  10  Train Loss :  0.4088191671411041\n",
            "Iter : 71000 at epoch:  7 /  10  Train Loss :  0.3235476062617963\n",
            "Iter : 72000 at epoch:  7 /  10  Train Loss :  0.3625287777981721\n",
            "Iter : 73000 at epoch:  7 /  10  Train Loss :  0.3833487461940385\n",
            "Iter : 74000 at epoch:  7 /  10  Train Loss :  0.3352879657545127\n",
            "Iter:  75000 at epoch:  7 / 10  train loss : 0.3788660881638061 Train acc:  83.21888976585109  val loss:  tensor(0.3759)  val acc:  83.26668069880026\n",
            "Iter : 76000 at epoch:  7 /  10  Train Loss :  0.3836344915672671\n",
            "Iter : 1000 at epoch:  8 /  10  Train Loss :  0.37490492751821874\n",
            "Iter : 2000 at epoch:  8 /  10  Train Loss :  0.3907890002653003\n",
            "Iter : 3000 at epoch:  8 /  10  Train Loss :  0.3709701791387051\n",
            "Iter : 4000 at epoch:  8 /  10  Train Loss :  0.36106212899181994\n",
            "Iter : 5000 at epoch:  8 /  10  Train Loss :  0.3820752320722677\n",
            "Iter : 6000 at epoch:  8 /  10  Train Loss :  0.37719157939380965\n",
            "Iter : 7000 at epoch:  8 /  10  Train Loss :  0.3608275747045409\n",
            "Iter : 8000 at epoch:  8 /  10  Train Loss :  0.3749485245370306\n",
            "Iter : 9000 at epoch:  8 /  10  Train Loss :  0.3748522869462613\n",
            "Iter : 10000 at epoch:  8 /  10  Train Loss :  0.3688670010883361\n",
            "Iter : 11000 at epoch:  8 /  10  Train Loss :  0.38416557368310167\n",
            "Iter : 12000 at epoch:  8 /  10  Train Loss :  0.3604403176610358\n",
            "Iter : 13000 at epoch:  8 /  10  Train Loss :  0.36195478768367323\n",
            "Iter : 14000 at epoch:  8 /  10  Train Loss :  0.3532830686023226\n",
            "Iter : 15000 at epoch:  8 /  10  Train Loss :  0.38369886461785063\n",
            "Iter : 16000 at epoch:  8 /  10  Train Loss :  0.39828025619406254\n",
            "Iter : 17000 at epoch:  8 /  10  Train Loss :  0.37315318766445854\n",
            "Iter : 18000 at epoch:  8 /  10  Train Loss :  0.3731739586556796\n",
            "Iter : 19000 at epoch:  8 /  10  Train Loss :  0.3803271155511029\n",
            "Iter : 20000 at epoch:  8 /  10  Train Loss :  0.38440000589750706\n",
            "Iter : 21000 at epoch:  8 /  10  Train Loss :  0.36855578918056564\n",
            "Iter : 22000 at epoch:  8 /  10  Train Loss :  0.37210161773872097\n",
            "Iter : 23000 at epoch:  8 /  10  Train Loss :  0.34678554737893863\n",
            "Iter : 24000 at epoch:  8 /  10  Train Loss :  0.3494088019762421\n",
            "Iter:  25000 at epoch:  8 / 10  train loss : 0.4004206791818142 Train acc:  82.82294133122863  val loss:  tensor(0.3799)  val acc:  82.9404335929278\n",
            "Iter : 26000 at epoch:  8 /  10  Train Loss :  0.3894355929316953\n",
            "Iter : 27000 at epoch:  8 /  10  Train Loss :  0.4061170413903892\n",
            "Iter : 28000 at epoch:  8 /  10  Train Loss :  0.3608500434793532\n",
            "Iter : 29000 at epoch:  8 /  10  Train Loss :  0.3808714432681445\n",
            "Iter : 30000 at epoch:  8 /  10  Train Loss :  0.3386122521697544\n",
            "Iter : 31000 at epoch:  8 /  10  Train Loss :  0.36256887154816647\n",
            "Iter : 32000 at epoch:  8 /  10  Train Loss :  0.37108018128806725\n",
            "Iter : 33000 at epoch:  8 /  10  Train Loss :  0.3707671585723292\n",
            "Iter : 34000 at epoch:  8 /  10  Train Loss :  0.35596735020540654\n",
            "Iter : 35000 at epoch:  8 /  10  Train Loss :  0.39119213103340006\n",
            "Iter : 36000 at epoch:  8 /  10  Train Loss :  0.38146840261342\n",
            "Iter : 37000 at epoch:  8 /  10  Train Loss :  0.3674394752422813\n",
            "Iter : 38000 at epoch:  8 /  10  Train Loss :  0.3913105338655878\n",
            "Iter : 39000 at epoch:  8 /  10  Train Loss :  0.35893663378059865\n",
            "Iter : 40000 at epoch:  8 /  10  Train Loss :  0.41934534367662857\n",
            "Iter : 41000 at epoch:  8 /  10  Train Loss :  0.3737893610375468\n",
            "Iter : 42000 at epoch:  8 /  10  Train Loss :  0.41211765580810605\n",
            "Iter : 43000 at epoch:  8 /  10  Train Loss :  0.4032360874330625\n",
            "Iter : 44000 at epoch:  8 /  10  Train Loss :  0.3869243076830171\n",
            "Iter : 45000 at epoch:  8 /  10  Train Loss :  0.3869238742340822\n",
            "Iter : 46000 at epoch:  8 /  10  Train Loss :  0.4315455753307324\n",
            "Iter : 47000 at epoch:  8 /  10  Train Loss :  0.3882472962795291\n",
            "Iter : 48000 at epoch:  8 /  10  Train Loss :  0.3529999496759847\n",
            "Iter : 49000 at epoch:  8 /  10  Train Loss :  0.3797063804136124\n",
            "Iter:  50000 at epoch:  8 / 10  train loss : 0.3788240924258716 Train acc:  83.25572217837411  val loss:  tensor(0.3758)  val acc:  83.18248789728479\n",
            "Iter : 51000 at epoch:  8 /  10  Train Loss :  0.3973564689909108\n",
            "Iter : 52000 at epoch:  8 /  10  Train Loss :  0.39169454138586296\n",
            "Iter : 53000 at epoch:  8 /  10  Train Loss :  0.38555317830760033\n",
            "Iter : 54000 at epoch:  8 /  10  Train Loss :  0.3751516476985998\n",
            "Iter : 55000 at epoch:  8 /  10  Train Loss :  0.4009335639476776\n",
            "Iter : 56000 at epoch:  8 /  10  Train Loss :  0.382156948935939\n",
            "Iter : 57000 at epoch:  8 /  10  Train Loss :  0.4148518279429991\n",
            "Iter : 58000 at epoch:  8 /  10  Train Loss :  0.36649719784548507\n",
            "Iter : 59000 at epoch:  8 /  10  Train Loss :  0.38559464698750523\n",
            "Iter : 60000 at epoch:  8 /  10  Train Loss :  0.34964460789831353\n",
            "Iter : 61000 at epoch:  8 /  10  Train Loss :  0.38393754193442875\n",
            "Iter : 62000 at epoch:  8 /  10  Train Loss :  0.3708036091509275\n",
            "Iter : 63000 at epoch:  8 /  10  Train Loss :  0.37982727779401465\n",
            "Iter : 64000 at epoch:  8 /  10  Train Loss :  0.37025744049600323\n",
            "Iter : 65000 at epoch:  8 /  10  Train Loss :  0.384654932775069\n",
            "Iter : 66000 at epoch:  8 /  10  Train Loss :  0.3796664246628061\n",
            "Iter : 67000 at epoch:  8 /  10  Train Loss :  0.378068209847901\n",
            "Iter : 68000 at epoch:  8 /  10  Train Loss :  0.37611774150049315\n",
            "Iter : 69000 at epoch:  8 /  10  Train Loss :  0.37565877759689464\n",
            "Iter : 70000 at epoch:  8 /  10  Train Loss :  0.3744050394848455\n",
            "Iter : 71000 at epoch:  8 /  10  Train Loss :  0.38008445902611127\n",
            "Iter : 72000 at epoch:  8 /  10  Train Loss :  0.41930555127584374\n",
            "Iter : 73000 at epoch:  8 /  10  Train Loss :  0.3772355122792069\n",
            "Iter : 74000 at epoch:  8 /  10  Train Loss :  0.36556171911023555\n",
            "Iter:  75000 at epoch:  8 / 10  train loss : 0.3837864886522293 Train acc:  82.71244409365957  val loss:  tensor(0.3804)  val acc:  82.6878551883814\n",
            "Iter : 76000 at epoch:  8 /  10  Train Loss :  0.37119004869950006\n",
            "Iter : 1000 at epoch:  9 /  10  Train Loss :  0.3626900590718724\n",
            "Iter : 2000 at epoch:  9 /  10  Train Loss :  0.3794566358979791\n",
            "Iter : 3000 at epoch:  9 /  10  Train Loss :  0.40269359828019513\n",
            "Iter : 4000 at epoch:  9 /  10  Train Loss :  0.40418381441570816\n",
            "Iter : 5000 at epoch:  9 /  10  Train Loss :  0.3710371902603656\n",
            "Iter : 6000 at epoch:  9 /  10  Train Loss :  0.3779354501180351\n",
            "Iter : 7000 at epoch:  9 /  10  Train Loss :  0.3530583515341859\n",
            "Iter : 8000 at epoch:  9 /  10  Train Loss :  0.3744215138533618\n",
            "Iter : 9000 at epoch:  9 /  10  Train Loss :  0.36366736988164483\n",
            "Iter : 10000 at epoch:  9 /  10  Train Loss :  0.37507867785100824\n",
            "Iter : 11000 at epoch:  9 /  10  Train Loss :  0.3682356437991839\n",
            "Iter : 12000 at epoch:  9 /  10  Train Loss :  0.40370350929279814\n",
            "Iter : 13000 at epoch:  9 /  10  Train Loss :  0.3790273968607653\n",
            "Iter : 14000 at epoch:  9 /  10  Train Loss :  0.38883369113411753\n",
            "Iter : 15000 at epoch:  9 /  10  Train Loss :  0.3753852521879599\n",
            "Iter : 16000 at epoch:  9 /  10  Train Loss :  0.370363068443723\n",
            "Iter : 17000 at epoch:  9 /  10  Train Loss :  0.35047121640644036\n",
            "Iter : 18000 at epoch:  9 /  10  Train Loss :  0.36977050596289335\n",
            "Iter : 19000 at epoch:  9 /  10  Train Loss :  0.3828541117331479\n",
            "Iter : 20000 at epoch:  9 /  10  Train Loss :  0.3827748213019222\n",
            "Iter : 21000 at epoch:  9 /  10  Train Loss :  0.37072605022275823\n",
            "Iter : 22000 at epoch:  9 /  10  Train Loss :  0.38490796549478545\n",
            "Iter : 23000 at epoch:  9 /  10  Train Loss :  0.36255368794570675\n",
            "Iter : 24000 at epoch:  9 /  10  Train Loss :  0.37256322816084136\n",
            "Iter:  25000 at epoch:  9 / 10  train loss : 0.41701599549129603 Train acc:  83.30570902394106  val loss:  tensor(0.3743)  val acc:  83.54030730372554\n",
            "Iter : 26000 at epoch:  9 /  10  Train Loss :  0.3685509632306639\n",
            "Iter : 27000 at epoch:  9 /  10  Train Loss :  0.3866068908122834\n",
            "Iter : 28000 at epoch:  9 /  10  Train Loss :  0.3658695945420768\n",
            "Iter : 29000 at epoch:  9 /  10  Train Loss :  0.38138335960148834\n",
            "Iter : 30000 at epoch:  9 /  10  Train Loss :  0.3977495548413135\n",
            "Iter : 31000 at epoch:  9 /  10  Train Loss :  0.3881306267969776\n",
            "Iter : 32000 at epoch:  9 /  10  Train Loss :  0.388517913920572\n",
            "Iter : 33000 at epoch:  9 /  10  Train Loss :  0.37937100098328663\n",
            "Iter : 34000 at epoch:  9 /  10  Train Loss :  0.36321607649396176\n",
            "Iter : 35000 at epoch:  9 /  10  Train Loss :  0.37156074118590915\n",
            "Iter : 36000 at epoch:  9 /  10  Train Loss :  0.38108388043986635\n",
            "Iter : 37000 at epoch:  9 /  10  Train Loss :  0.3520618105728645\n",
            "Iter : 38000 at epoch:  9 /  10  Train Loss :  0.38742754912236704\n",
            "Iter : 39000 at epoch:  9 /  10  Train Loss :  0.36427664464269766\n",
            "Iter : 40000 at epoch:  9 /  10  Train Loss :  0.383207715054974\n",
            "Iter : 41000 at epoch:  9 /  10  Train Loss :  0.38675186023069547\n",
            "Iter : 42000 at epoch:  9 /  10  Train Loss :  0.3972073324988596\n",
            "Iter : 43000 at epoch:  9 /  10  Train Loss :  0.3759600636374671\n",
            "Iter : 44000 at epoch:  9 /  10  Train Loss :  0.3642885641225148\n",
            "Iter : 45000 at epoch:  9 /  10  Train Loss :  0.36066518688132054\n",
            "Iter : 46000 at epoch:  9 /  10  Train Loss :  0.3634069041707553\n",
            "Iter : 47000 at epoch:  9 /  10  Train Loss :  0.35643048395682125\n",
            "Iter : 48000 at epoch:  9 /  10  Train Loss :  0.37467215440561996\n",
            "Iter : 49000 at epoch:  9 /  10  Train Loss :  0.3901453170757741\n",
            "Iter:  50000 at epoch:  9 / 10  train loss : 0.4021214430532418 Train acc:  83.27150749802684  val loss:  tensor(0.3744)  val acc:  83.3719217006946\n",
            "Iter : 51000 at epoch:  9 /  10  Train Loss :  0.3710969186858274\n",
            "Iter : 52000 at epoch:  9 /  10  Train Loss :  0.40261468102713116\n",
            "Iter : 53000 at epoch:  9 /  10  Train Loss :  0.36967205931479113\n",
            "Iter : 54000 at epoch:  9 /  10  Train Loss :  0.3501963252599817\n",
            "Iter : 55000 at epoch:  9 /  10  Train Loss :  0.38664622083469297\n",
            "Iter : 56000 at epoch:  9 /  10  Train Loss :  0.36537272814405153\n",
            "Iter : 57000 at epoch:  9 /  10  Train Loss :  0.4120477942079306\n",
            "Iter : 58000 at epoch:  9 /  10  Train Loss :  0.3740904265132267\n",
            "Iter : 59000 at epoch:  9 /  10  Train Loss :  0.38187474848423153\n",
            "Iter : 60000 at epoch:  9 /  10  Train Loss :  0.37214762761397285\n",
            "Iter : 61000 at epoch:  9 /  10  Train Loss :  0.3973300843806937\n",
            "Iter : 62000 at epoch:  9 /  10  Train Loss :  0.37904595999000595\n",
            "Iter : 63000 at epoch:  9 /  10  Train Loss :  0.3932942959060892\n",
            "Iter : 64000 at epoch:  9 /  10  Train Loss :  0.3997179845655337\n",
            "Iter : 65000 at epoch:  9 /  10  Train Loss :  0.38684220143640413\n",
            "Iter : 66000 at epoch:  9 /  10  Train Loss :  0.3470879382719286\n",
            "Iter : 67000 at epoch:  9 /  10  Train Loss :  0.33056007681507615\n",
            "Iter : 68000 at epoch:  9 /  10  Train Loss :  0.3636166185820475\n",
            "Iter : 69000 at epoch:  9 /  10  Train Loss :  0.42618085839459674\n",
            "Iter : 70000 at epoch:  9 /  10  Train Loss :  0.4025162692044396\n",
            "Iter : 71000 at epoch:  9 /  10  Train Loss :  0.3657889525482897\n",
            "Iter : 72000 at epoch:  9 /  10  Train Loss :  0.3500850589242764\n",
            "Iter : 73000 at epoch:  9 /  10  Train Loss :  0.3570782542582601\n",
            "Iter : 74000 at epoch:  9 /  10  Train Loss :  0.3927222085283138\n",
            "Iter:  75000 at epoch:  9 / 10  train loss : 0.34492978159571064 Train acc:  83.23072875559063  val loss:  tensor(0.3745)  val acc:  83.15091559671647\n",
            "Iter : 76000 at epoch:  9 /  10  Train Loss :  0.3952552837177645\n",
            "Iter : 1000 at epoch:  10 /  10  Train Loss :  0.34663339240010826\n",
            "Iter : 2000 at epoch:  10 /  10  Train Loss :  0.35182880486501383\n",
            "Iter : 3000 at epoch:  10 /  10  Train Loss :  0.3344836108428426\n",
            "Iter : 4000 at epoch:  10 /  10  Train Loss :  0.3399630617338698\n",
            "Iter : 5000 at epoch:  10 /  10  Train Loss :  0.4177608923641965\n",
            "Iter : 6000 at epoch:  10 /  10  Train Loss :  0.34164464033930564\n",
            "Iter : 7000 at epoch:  10 /  10  Train Loss :  0.37176457152469083\n",
            "Iter : 8000 at epoch:  10 /  10  Train Loss :  0.35499816470523365\n",
            "Iter : 9000 at epoch:  10 /  10  Train Loss :  0.3909458350527566\n",
            "Iter : 10000 at epoch:  10 /  10  Train Loss :  0.3840653756828979\n",
            "Iter : 11000 at epoch:  10 /  10  Train Loss :  0.37892773874895647\n",
            "Iter : 12000 at epoch:  10 /  10  Train Loss :  0.3383349460558966\n",
            "Iter : 13000 at epoch:  10 /  10  Train Loss :  0.3923037251131609\n",
            "Iter : 14000 at epoch:  10 /  10  Train Loss :  0.3823184615739156\n",
            "Iter : 15000 at epoch:  10 /  10  Train Loss :  0.3506289305626415\n",
            "Iter : 16000 at epoch:  10 /  10  Train Loss :  0.3869149174825288\n",
            "Iter : 17000 at epoch:  10 /  10  Train Loss :  0.37279169270396234\n",
            "Iter : 18000 at epoch:  10 /  10  Train Loss :  0.3702280306209577\n",
            "Iter : 19000 at epoch:  10 /  10  Train Loss :  0.39761331118410453\n",
            "Iter : 20000 at epoch:  10 /  10  Train Loss :  0.37649431540537626\n",
            "Iter : 21000 at epoch:  10 /  10  Train Loss :  0.347224155954551\n",
            "Iter : 22000 at epoch:  10 /  10  Train Loss :  0.37954080997069833\n",
            "Iter : 23000 at epoch:  10 /  10  Train Loss :  0.37848153052735145\n",
            "Iter : 24000 at epoch:  10 /  10  Train Loss :  0.38020672456640753\n",
            "Iter:  25000 at epoch:  10 / 10  train loss : 0.36244362613209524 Train acc:  83.37016574585635  val loss:  tensor(0.3735)  val acc:  83.41401810145233\n",
            "Iter : 26000 at epoch:  10 /  10  Train Loss :  0.3849777792212553\n",
            "Iter : 27000 at epoch:  10 /  10  Train Loss :  0.372677855119342\n",
            "Iter : 28000 at epoch:  10 /  10  Train Loss :  0.40915132856415587\n",
            "Iter : 29000 at epoch:  10 /  10  Train Loss :  0.34058249621582215\n",
            "Iter : 30000 at epoch:  10 /  10  Train Loss :  0.356362743269885\n",
            "Iter : 31000 at epoch:  10 /  10  Train Loss :  0.3780814699255861\n",
            "Iter : 32000 at epoch:  10 /  10  Train Loss :  0.3656303790947422\n",
            "Iter : 33000 at epoch:  10 /  10  Train Loss :  0.3665289507396519\n",
            "Iter : 34000 at epoch:  10 /  10  Train Loss :  0.3998039461694425\n",
            "Iter : 35000 at epoch:  10 /  10  Train Loss :  0.36716842384287157\n",
            "Iter : 36000 at epoch:  10 /  10  Train Loss :  0.362264355574036\n",
            "Iter : 37000 at epoch:  10 /  10  Train Loss :  0.39090562814380975\n",
            "Iter : 38000 at epoch:  10 /  10  Train Loss :  0.3904660075895954\n",
            "Iter : 39000 at epoch:  10 /  10  Train Loss :  0.3444086036221124\n",
            "Iter : 40000 at epoch:  10 /  10  Train Loss :  0.38301475206576285\n",
            "Iter : 41000 at epoch:  10 /  10  Train Loss :  0.3785982513150666\n",
            "Iter : 42000 at epoch:  10 /  10  Train Loss :  0.4073265670444816\n",
            "Iter : 43000 at epoch:  10 /  10  Train Loss :  0.3699942879430018\n",
            "Iter : 44000 at epoch:  10 /  10  Train Loss :  0.3945774606638588\n",
            "Iter : 45000 at epoch:  10 /  10  Train Loss :  0.3874949095407501\n",
            "Iter : 46000 at epoch:  10 /  10  Train Loss :  0.3633053935896605\n",
            "Iter : 47000 at epoch:  10 /  10  Train Loss :  0.40639771603629926\n",
            "Iter : 48000 at epoch:  10 /  10  Train Loss :  0.3858509308444336\n",
            "Iter : 49000 at epoch:  10 /  10  Train Loss :  0.37461013499763796\n",
            "Iter:  50000 at epoch:  10 / 10  train loss : 0.3732055105236359 Train acc:  83.3609576427256  val loss:  tensor(0.3738)  val acc:  83.47716270258893\n",
            "Iter : 51000 at epoch:  10 /  10  Train Loss :  0.3829622502774\n",
            "Iter : 52000 at epoch:  10 /  10  Train Loss :  0.358744240879314\n",
            "Iter : 53000 at epoch:  10 /  10  Train Loss :  0.3852030006244313\n",
            "Iter : 54000 at epoch:  10 /  10  Train Loss :  0.3589671459512319\n",
            "Iter : 55000 at epoch:  10 /  10  Train Loss :  0.3838766851255205\n",
            "Iter : 56000 at epoch:  10 /  10  Train Loss :  0.3976836562117096\n",
            "Iter : 57000 at epoch:  10 /  10  Train Loss :  0.3914913005034905\n",
            "Iter : 58000 at epoch:  10 /  10  Train Loss :  0.393718992221402\n",
            "Iter : 59000 at epoch:  10 /  10  Train Loss :  0.37711870413296855\n",
            "Iter : 60000 at epoch:  10 /  10  Train Loss :  0.3874338946901262\n",
            "Iter : 61000 at epoch:  10 /  10  Train Loss :  0.40711959372088313\n",
            "Iter : 62000 at epoch:  10 /  10  Train Loss :  0.40423455265071245\n",
            "Iter : 63000 at epoch:  10 /  10  Train Loss :  0.3694141242865007\n",
            "Iter : 64000 at epoch:  10 /  10  Train Loss :  0.3803027939137537\n",
            "Iter : 65000 at epoch:  10 /  10  Train Loss :  0.41191906059649774\n",
            "Iter : 66000 at epoch:  10 /  10  Train Loss :  0.3714623870605137\n",
            "Iter : 67000 at epoch:  10 /  10  Train Loss :  0.3785278320047073\n",
            "Iter : 68000 at epoch:  10 /  10  Train Loss :  0.39059250775096005\n",
            "Iter : 69000 at epoch:  10 /  10  Train Loss :  0.3761871827384457\n",
            "Iter : 70000 at epoch:  10 /  10  Train Loss :  0.3785215711405035\n",
            "Iter : 71000 at epoch:  10 /  10  Train Loss :  0.38670337094948626\n",
            "Iter : 72000 at epoch:  10 /  10  Train Loss :  0.38265952314436436\n",
            "Iter : 73000 at epoch:  10 /  10  Train Loss :  0.3709213342033327\n",
            "Iter : 74000 at epoch:  10 /  10  Train Loss :  0.37157504398352464\n",
            "Iter:  75000 at epoch:  10 / 10  train loss : 0.3628408220882993 Train acc:  83.41620626151013  val loss:  tensor(0.3734)  val acc:  83.40349400126289\n",
            "Iter : 76000 at epoch:  10 /  10  Train Loss :  0.3728034874736331\n"
          ],
          "name": "stdout"
        }
      ]
    },
    {
      "cell_type": "markdown",
      "metadata": {
        "id": "Ip2mal9-7LOA",
        "colab_type": "text"
      },
      "source": [
        "# **Visualize Loss and Accuracy **"
      ]
    },
    {
      "cell_type": "code",
      "metadata": {
        "id": "ThVaXPA2Z-B9",
        "colab_type": "code",
        "colab": {
          "base_uri": "https://localhost:8080/",
          "height": 334
        },
        "outputId": "bcf1c518-fc3c-421f-dc38-762cd398365b"
      },
      "source": [
        "import matplotlib.pyplot as plt\n",
        "\n",
        "total_step_list=np.arange(len(train_loss_list))\n",
        "plt.plot(total_step_list,train_loss_list)\n",
        "plt.plot(total_step_list,val_loss_list)\n",
        "plt.title(\"LOSS\",fontsize=30)\n",
        "plt.xlabel('step',fontsize=20)\n",
        "plt.ylabel('loss',fontsize=20)\n",
        "plt.legend(['train','val'],loc='upper right')\n"
      ],
      "execution_count": 28,
      "outputs": [
        {
          "output_type": "execute_result",
          "data": {
            "text/plain": [
              "<matplotlib.legend.Legend at 0x7f35ffdb0d68>"
            ]
          },
          "metadata": {
            "tags": []
          },
          "execution_count": 28
        },
        {
          "output_type": "display_data",
          "data": {
            "image/png": "[encoded data removed]",
            "text/plain": [
              "<Figure size 432x288 with 1 Axes>"
            ]
          },
          "metadata": {
            "tags": [],
            "needs_background": "light"
          }
        }
      ]
    },
    {
      "cell_type": "code",
      "metadata": {
        "id": "bZHv5SLF3SsG",
        "colab_type": "code",
        "colab": {
          "base_uri": "https://localhost:8080/",
          "height": 334
        },
        "outputId": "fe32242d-66f4-49f2-b5b8-953ea75d106f"
      },
      "source": [
        "\n",
        "total_step_list=np.arange(len(train_acc_list))\n",
        "plt.plot(total_step_list,train_acc_list)\n",
        "plt.plot(total_step_list,val_acc_list)\n",
        "plt.title(\"ACCURACY\",fontsize=30)\n",
        "plt.xlabel('step',fontsize=20)\n",
        "plt.ylabel('accuracy',fontsize=20)\n",
        "plt.legend(['train','val'],loc='lower right')\n"
      ],
      "execution_count": 30,
      "outputs": [
        {
          "output_type": "execute_result",
          "data": {
            "text/plain": [
              "<matplotlib.legend.Legend at 0x7f35ffc0cf98>"
            ]
          },
          "metadata": {
            "tags": []
          },
          "execution_count": 30
        },
        {
          "output_type": "display_data",
          "data": {
            "image/png": "[encoded data removed]",
            "text/plain": [
              "<Figure size 432x288 with 1 Axes>"
            ]
          },
          "metadata": {
            "tags": [],
            "needs_background": "light"
          }
        }
      ]
    },
    {
      "cell_type": "markdown",
      "metadata": {
        "id": "D_iHxwtv7ily",
        "colab_type": "text"
      },
      "source": [
        "# **Evaluate test set**"
      ]
    },
    {
      "cell_type": "code",
      "metadata": {
        "id": "-Cl9tIAz4iqX",
        "colab_type": "code",
        "colab": {
          "base_uri": "https://localhost:8080/",
          "height": 71
        },
        "outputId": "236a97a5-54db-431d-cf45-082cbdefe4fb"
      },
      "source": [
        "print(\"Test Accuracy : \",evaluate(X_test,y_test,device)[1],\"%\")"
      ],
      "execution_count": 27,
      "outputs": [
        {
          "output_type": "stream",
          "text": [
            "/usr/local/lib/python3.6/dist-packages/ipykernel_launcher.py:22: UserWarning: Implicit dimension choice for log_softmax has been deprecated. Change the call to include dim=X as an argument.\n"
          ],
          "name": "stderr"
        },
        {
          "output_type": "stream",
          "text": [
            "Test Accuracy :  83.6788382616016 %\n"
          ],
          "name": "stdout"
        }
      ]
    },
    {
      "cell_type": "code",
      "metadata": {
        "id": "Aam_Gbey7v7r",
        "colab_type": "code",
        "colab": {}
      },
      "source": [
        ""
      ],
      "execution_count": null,
      "outputs": []
    }
  ]
}