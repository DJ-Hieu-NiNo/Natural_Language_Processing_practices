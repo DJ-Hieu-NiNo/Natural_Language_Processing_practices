{
  "nbformat": 4,
  "nbformat_minor": 0,
  "metadata": {
    "colab": {
      "name": "BiDirectional_LSTM_BBC_news.ipynb",
      "provenance": [],
      "collapsed_sections": [],
      "machine_shape": "hm"
    },
    "kernelspec": {
      "name": "python3",
      "display_name": "Python 3"
    },
    "accelerator": "GPU"
  },
  "cells": [
    {
      "cell_type": "code",
      "metadata": {
        "id": "_t01LrX880aB",
        "colab_type": "code",
        "colab": {
          "base_uri": "https://localhost:8080/",
          "height": 122
        },
        "outputId": "d20a42e7-28be-4869-f35e-c036a9976408"
      },
      "source": [
        "from google.colab import drive\n",
        "drive.mount('/content/gdrive')"
      ],
      "execution_count": 1,
      "outputs": [
        {
          "output_type": "stream",
          "text": [
            "Go to this URL in a browser: https://accounts.google.com/o/oauth2/auth?client_id=947318989803-6bn6qk8qdgf4n4g3pfee6491hc0brc4i.apps.googleusercontent.com&redirect_uri=urn%3aietf%3awg%3aoauth%3a2.0%3aoob&response_type=code&scope=email%20https%3a%2f%2fwww.googleapis.com%2fauth%2fdocs.test%20https%3a%2f%2fwww.googleapis.com%2fauth%2fdrive%20https%3a%2f%2fwww.googleapis.com%2fauth%2fdrive.photos.readonly%20https%3a%2f%2fwww.googleapis.com%2fauth%2fpeopleapi.readonly\n",
            "\n",
            "Enter your authorization code:\n",
            "··········\n",
            "Mounted at /content/gdrive\n"
          ],
          "name": "stdout"
        }
      ]
    },
    {
      "cell_type": "markdown",
      "metadata": {
        "id": "d9-deZUf_RyS",
        "colab_type": "text"
      },
      "source": [
        "# ***Load Dataset***"
      ]
    },
    {
      "cell_type": "code",
      "metadata": {
        "id": "LCzaPlV5_FeD",
        "colab_type": "code",
        "colab": {
          "base_uri": "https://localhost:8080/",
          "height": 68
        },
        "outputId": "5b15e1d9-2644-4953-ec4a-2adca1d66534"
      },
      "source": [
        "import pandas as pd\n",
        "\n",
        "df=pd.read_csv(\"/content/gdrive/My Drive/BBC_news/bbc-text.csv\")\n",
        "print(\"There are : \",len(df),\"Samples\")\n",
        "print(\"Number of class: \",len(df.category.unique()))\n",
        "print(\"Details : \",df.category.unique())"
      ],
      "execution_count": 2,
      "outputs": [
        {
          "output_type": "stream",
          "text": [
            "There are :  2225 Samples\n",
            "Number of class:  5\n",
            "Details :  ['tech' 'business' 'sport' 'entertainment' 'politics']\n"
          ],
          "name": "stdout"
        }
      ]
    },
    {
      "cell_type": "markdown",
      "metadata": {
        "id": "YqkjUbfeAwhi",
        "colab_type": "text"
      },
      "source": [
        "# **Label category from text to [0,4]**"
      ]
    },
    {
      "cell_type": "code",
      "metadata": {
        "id": "8yBjyjCA_Zfw",
        "colab_type": "code",
        "colab": {
          "base_uri": "https://localhost:8080/",
          "height": 34
        },
        "outputId": "c3b12cde-ee69-4121-8b31-0a81252a2a85"
      },
      "source": [
        "from sklearn.preprocessing import LabelEncoder\n",
        "\n",
        "X=df.text\n",
        "y=df.category\n",
        "labelencoder=LabelEncoder()\n",
        "y=labelencoder.fit_transform(y)\n",
        "print(y[:10])\n",
        "#0: business\n",
        "#1: entertainment\n",
        "#2: politics\n",
        "#3: sport\n",
        "#4: tech"
      ],
      "execution_count": 3,
      "outputs": [
        {
          "output_type": "stream",
          "text": [
            "[4 0 3 3 1 2 2 3 3 1]\n"
          ],
          "name": "stdout"
        }
      ]
    },
    {
      "cell_type": "markdown",
      "metadata": {
        "id": "R4Dpy3LbDP9y",
        "colab_type": "text"
      },
      "source": [
        "# **Remove Stopwords**"
      ]
    },
    {
      "cell_type": "code",
      "metadata": {
        "id": "3pIDYCG5Db-X",
        "colab_type": "code",
        "colab": {
          "base_uri": "https://localhost:8080/",
          "height": 173
        },
        "outputId": "723d1fc9-5b3f-47b7-b8a2-0c27da025ff4"
      },
      "source": [
        "\n",
        "import nltk\n",
        "from nltk.corpus import stopwords\n",
        "from nltk.tokenize import word_tokenize\n",
        "nltk.download('stopwords')\n",
        "nltk.download('punkt')\n",
        "STOPWORDS = set(stopwords.words('english'))\n",
        "print(\"STOPWORDS in English : \",STOPWORDS)\n",
        "print(\"There are : \",len(STOPWORDS),\"Stopwords in English \")\n",
        "\n",
        "new_X=[]\n",
        "\n",
        "for i in range(len(X)):\n",
        "  tokens=word_tokenize(X[i])\n",
        "  temp_sent=[]\n",
        "  sent=\"\"\n",
        "  for token in tokens:\n",
        "    if(token not in STOPWORDS):\n",
        "      sent+=token+\" \"\n",
        "      temp_sent.append(sent)\n",
        "  new_X.append(sent)\n",
        "print(\"Test 10 samples after remove stop words:\")\n",
        "print(new_X[:10])\n"
      ],
      "execution_count": 4,
      "outputs": [
        {
          "output_type": "stream",
          "text": [
            "[nltk_data] Downloading package stopwords to /root/nltk_data...\n",
            "[nltk_data]   Unzipping corpora/stopwords.zip.\n",
            "[nltk_data] Downloading package punkt to /root/nltk_data...\n",
            "[nltk_data]   Unzipping tokenizers/punkt.zip.\n",
            "STOPWORDS in English :  {'will', 'you', 'a', 'what', 'during', 'me', 'then', 'just', 'm', 'yourselves', 'his', 'the', 'own', 'doesn', 'shan', \"wouldn't\", 'down', \"wasn't\", 'over', 'until', 'into', 'ours', 'your', 'ourselves', 'why', 'these', 'myself', 'through', 'isn', 'only', \"she's\", 'him', 'did', \"won't\", 'to', 'that', 'd', 'couldn', 'some', 'out', 'yours', 'no', \"you'll\", 'again', 'hasn', \"doesn't\", 'when', 'had', 'its', \"shouldn't\", 'up', \"that'll\", 'our', 'above', 'such', 'hadn', 'won', 'where', 'didn', 'before', 'she', 'because', 'ain', 'theirs', 'once', 'ma', 'her', 'few', 'mustn', 'have', 'those', 'but', 'shouldn', 'he', 'doing', 'between', 'for', \"don't\", \"you've\", 'off', \"haven't\", 'my', 'both', 'does', 'other', 'very', 'at', 'as', 'further', 'of', 'not', 'while', \"aren't\", \"shan't\", 'himself', \"hasn't\", 'are', 'each', 'same', 'aren', 'mightn', 'was', 'with', 'we', 'is', 'being', 'do', 'them', 'i', 'too', 'herself', 't', 'has', 'having', 'haven', 'there', 'this', 'hers', 'most', 'whom', 'it', 'been', 'be', 'they', 'should', \"you're\", \"mustn't\", 'or', 'than', 'y', 'on', 'more', 'weren', 'all', 'yourself', 'wasn', 'below', 'itself', 'in', \"isn't\", 'here', 's', \"hadn't\", 'wouldn', 'needn', 'by', 'which', 'now', \"should've\", 'about', 'who', 'were', 'any', 'nor', 'o', \"mightn't\", 'and', 'll', \"needn't\", 'am', 'how', 'if', 'after', 're', 'from', 'against', 'so', 'under', 'don', 've', \"it's\", 'an', \"you'd\", \"didn't\", 'can', 'themselves', \"couldn't\", \"weren't\", 'their'}\n",
            "There are :  179 Stopwords in English \n",
            "Test 10 samples after remove stop words:\n",
            "['tv future hands viewers home theatre systems plasma high-definition tvs digital video recorders moving living room way people watch tv radically different five years time . according expert panel gathered annual consumer electronics show las vegas discuss new technologies impact one favourite pastimes . us leading trend programmes content delivered viewers via home networks cable satellite telecoms companies broadband service providers front rooms portable devices . one talked-about technologies ces digital personal video recorders ( dvr pvr ) . set-top boxes like us tivo uk sky+ system allow people record store play pause forward wind tv programmes want . essentially technology allows much personalised tv . also built-in high-definition tv sets big business japan us slower take europe lack high-definition programming . people forward wind adverts also forget abiding network channel schedules putting together a-la-carte entertainment . us networks cable satellite companies worried means terms advertising revenues well brand identity viewer loyalty channels . although us leads technology moment also concern raised europe particularly growing uptake services like sky+ . happens today see nine months years time uk adam hume bbc broadcast futurologist told bbc news website . likes bbc issues lost advertising revenue yet . pressing issue moment commercial uk broadcasters brand loyalty important everyone . talking content brands rather network brands said tim hanlon brand communications firm starcom mediavest . reality broadband connections anybody producer content . added : challenge hard promote programme much choice . means said stacey jolna senior vice president tv guide tv group way people find content want watch simplified tv viewers . means networks us terms channels could take leaf google book search engine future instead scheduler help people find want watch . kind channel model might work younger ipod generation used taking control gadgets play . might suit everyone panel recognised . older generations comfortable familiar schedules channel brands know getting . perhaps want much choice put hands mr hanlon suggested . end kids diapers pushing buttons already - everything possible available said mr hanlon . ultimately consumer tell market want . 50 000 new gadgets technologies showcased ces many enhancing tv-watching experience . high-definition tv sets everywhere many new models lcd ( liquid crystal display ) tvs launched dvr capability built instead external boxes . one example launched show humax 26-inch lcd tv 80-hour tivo dvr dvd recorder . one us biggest satellite tv companies directtv even launched branded dvr show 100-hours recording capability instant replay search function . set pause rewind tv 90 hours . microsoft chief bill gates announced pre-show keynote speech partnership tivo called tivotogo means people play recorded programmes windows pcs mobile devices . reflect increasing trend freeing multimedia people watch want want . ', 'worldcom boss left books alone former worldcom boss bernie ebbers accused overseeing $ 11bn ( £5.8bn ) fraud never made accounting decisions witness told jurors . david myers made comments questioning defence lawyers arguing mr ebbers responsible worldcom problems . phone company collapsed 2002 prosecutors claim losses hidden protect firm shares . mr myers already pleaded guilty fraud assisting prosecutors . monday defence lawyer reid weingarten tried distance client allegations . cross examination asked mr myers ever knew mr ebbers make accounting decision . aware mr myers replied . ever know mr ebbers make accounting entry worldcom books mr weingarten pressed . replied witness . mr myers admitted ordered false accounting entries request former worldcom chief financial officer scott sullivan . defence lawyers trying paint mr sullivan admitted fraud testify later trial mastermind behind worldcom accounting house cards . mr ebbers team meanwhile looking portray affable boss admission pe graduate economist . whatever abilities mr ebbers transformed worldcom relative unknown $ 160bn telecoms giant investor darling late 1990s . worldcom problems mounted however competition increased telecoms boom petered . firm finally collapsed shareholders lost $ 180bn 20 000 workers lost jobs . mr ebbers trial expected last two months found guilty former ceo faces substantial jail sentence . firmly declared innocence . ', 'tigers wary farrell gamble leicester say rushed making bid andy farrell great britain rugby league captain decide switch codes . anybody else involved process still way away going next stage tigers boss john wells told bbc radio leicester . moment still lot unknowns andy farrell least medical situation . whoever take going take big big gamble . farrell persistent knee problems operation knee five weeks ago expected another three months . leicester saracens believed head list rugby union clubs interested signing farrell decides move 15-man game . move across union wells believes would better playing backs least initially . sure could make step league union involved centre said wells . think england would prefer progress position back row make use rugby league skills within forwards . jury whether cross divide . club balance struck cost gamble option bringing ready-made replacement . ', 'yeading face newcastle fa cup premiership side newcastle united face trip ryman premier league leaders yeading fa cup third round . game - arguably highlight draw - potential money-spinner non-league yeading beat slough second round . conference side exeter city knocked doncaster saturday travel old trafford meet holders manchester united january . arsenal drawn home stoke chelsea play host scunthorpe . non-league side draw hinckley united held brentford goalless draw sunday . meet league one leaders luton win replay martin allen team griffin park . number premiership teams face difficult away games championship sides weekend 8/9 january . third-placed everton visit plymouth liverpool travel burnley crystal palace go sunderland fulham face carling cup semi-finalists watford bolton meet ipswich aston villa drawn sheffield united . premiership strugglers norwich blackburn west brom away west ham cardiff preston north end respectively . southampton visit northampton already beaten league two side carling cup earlier season . middlesbrough drawn away either swindon notts county spurs entertain brighton white hart lane . arsenal v stoke swindon/notts co v middlesbrough man utd v exeter plymouth v everton leicester v blackpool derby v wigan sunderland v crystal palace wolves v millwall yeading v newcastle hull v colchester tottenham v brighton reading v stockport/swansea birmingham v leeds hartlepool v boston milton keynes dons v peterborough oldham v man city chelsea v scunthorpe cardiff v blackburn charlton v rochdale west ham v norwich sheff utd v aston villa preston v west brom rotherham v yeovil burnley v liverpool bournemouth v chester coventry v crewe watford v fulham ipswich v bolton portsmouth v gillingham northampton v southampton qpr v nottm forest luton v hinckley/brentford matches played weekend 8/9 january . ', 'ocean twelve raids box office ocean twelve crime caper sequel starring george clooney brad pitt julia roberts gone straight number one us box office chart . took $ 40.8m ( £21m ) weekend ticket sales according studio estimates . sequel follows master criminals try pull three major heists across europe . knocked last week number one national treasure third place . wesley snipes blade : trinity second taking $ 16.1m ( £8.4m ) . rounding top five animated fable polar express starring tom hanks festive comedy christmas kranks . ocean twelve box office triumph marks fourth-biggest opening december release us three films lord rings trilogy . sequel narrowly beat 2001 predecessor ocean eleven took $ 38.1m ( £19.8m ) opening weekend $ 184m ( £95.8m ) total . remake 1960s film starring frank sinatra rat pack ocean eleven directed oscar-winning director steven soderbergh . soderbergh returns direct hit sequel reunites clooney pitt roberts matt damon andy garcia elliott gould . catherine zeta-jones joins all-star cast . fun good holiday movie said dan fellman president distribution warner bros. however us critics less complimentary $ 110m ( £57.2m ) project los angeles times labelling dispiriting vanity project . milder review new york times dubbed sequel unabashedly trivial . ', 'howard hits back mongrel jibe michael howard said claim peter hain tory leader acting like attack mongrel shows labour rattled opposition . upbeat speech party spring conference brighton said labour campaigning tactics proved tories hitting home . mr hain made claim tory tactics anti-terror bill debate . something tells someone somewhere little bit rattled mr howard said . mr hain leader commons told bbc radio four today programme mr howard stance government anti-terrorism legislation putting country risk . accused tory leader behaving like attack mongrel playing opposition opposition sake . mr howard told party labour would anything say anything claim anything cling office costs . far year compared fagin shylock flying pig . morning peter hain even called mongrel . know something tells someone somewhere little bit rattled . environment secretary margaret beckett rejected mr howard comment telling radio 4 pm programme labour rattled . real duty try get people focus michael howard record proposals trying put forward country also many examples seeing believe really poor judgement behalf . mr howard said tory policies schools taxes immigration crime striking chord voters . since beginning year - election year - making political weather told party conference . mr howard denied playing politics raising case margaret dixon whose operation cancelled seven times grabbed headlines party two weeks ago . hit back labour claims used mrs dixon human shield . human shield mr blair human . mr howard said party plans immigration quotas also focus much media coverage racist - common sense . pledged cleaner hospitals better school discipline promise get rid political correctness national curriculum give everyone chance decent state education . come ordinary family . teenage michael howard applying cambridge today gordon brown would love . stressed party commitment cut taxes red tape increase basic state pension line earnings . finished personal appeal party activists go win next election . one day able tell children grandchildren tell mine . bit . played part . helped win famous election - election transformed country better . labour election co-ordinator alan milburn said : michael howard speech today confirms always said - strategy opportunism forward vision country . reference appearance mr howard family conference stage mr milburn said : michael howard perfectly entitled pose family today . hard working families across britain damaged plan cut £35bn public spending . ', 'blair prepares name poll date tony blair likely name 5 may election day parliament returns easter break bbc political editor learned . andrew marr says mr blair ask queen 4 5 april dissolve parliament end week . mr blair far resisted calls name day parties stepped campaigning recently . downing street would drawn claim saying election timing matter prime minister . number 10 spokeswoman would say : announce election wants announce election . move signal frantic week westminster government likely try get key legislation parliament . government needs finance bill covering budget plans passed commons closes business end session 7 april . also seek push serious organised crime bill id cards bill . mr marr said wednesday today programme : almost nobody senior level inside government parliament expect election called 4 5 april . soon commons back short easter recess tony blair whips palace asks queen dissolve parliament ... going . labour government officially june 2006 hold general election recent years governments favoured four-year terms . ', 'henman hopes ended dubai third seed tim henman slumped straight sets defeat rain-interrupted dubai open quarter-final ivan ljubicic . croatian eighth seed booked place last four 7-5 6-4 victory british number one . henman looked course level match going 2-0 second set progress halted rain intervened . ljubicic hit back break seal fourth straight win henman . earlier day spanish fifth seed tommy robredo secured semi-final place beat nicolas kiefer germany 6-4 6-4. afterwards henman left cursing weather umpire seven breaks rain match . incredibly frustrating henman said . raining umpire take control . kept telling us play till end game . raining come - score irrelevant . frustrating happy form . expect desert . ', 'wilkinson fit face edinburgh england captain jonny wilkinson make long-awaited return injury edinburgh saturday . wilkinson played since injuring bicep 17 october took part full-contact training newcastle falcons wednesday . 25-year-old fly-half start saturday heineken cup match murrayfield bench . newcastle director rugby rob andrew said : fine hope get game stage . 25-year-old missed england autumn internationals aggravating haematoma upper right arm saracens . subsequently replaced england captain full-back jason robinson . sale charlie hodgson took number 10 shirt internationals canada south africa australia . wilkinson year disrupted injury muscle problem followed eight months sidelines shoulder injury sustained world cup final . ', 'last star wars children sixth final star wars movie may suitable young children film-maker george lucas said . told us tv show 60 minutes revenge sith would darkest violent series . think would take five six-year-old told cbs programme aired sunday . lucas predicted film would get us rating advising parents scenes may unsuitable under-13s . opens uk us 19 may . said expected film would classified pg-13 - roughly equivalent british 12a rating . five previous star wars films carried less restrictive pg - parental guidance - ratings us . uk passed u - suitable - exception attack clones got pg rating 2002. revenge sith - third prequel original 1977 star wars film - chronicles transformation heroic anakin skywalker evil darth vader travels hell-like planet composed erupting volcanoes molten lava . going watch make pact devil lucas said . film much dark emotional . much tragedy . ']\n"
          ],
          "name": "stdout"
        }
      ]
    },
    {
      "cell_type": "code",
      "metadata": {
        "id": "Pxe9SKb9Jo0C",
        "colab_type": "code",
        "colab": {
          "base_uri": "https://localhost:8080/",
          "height": 224
        },
        "outputId": "83fa989b-1ad9-43fb-e199-2afed5d6aa67"
      },
      "source": [
        "import numpy as np\n",
        "X_array=np.array(new_X)\n",
        "print(X_array[:10])\n",
        "print(X_array.shape)"
      ],
      "execution_count": 5,
      "outputs": [
        {
          "output_type": "stream",
          "text": [
            "['tv future hands viewers home theatre systems plasma high-definition tvs digital video recorders moving living room way people watch tv radically different five years time . according expert panel gathered annual consumer electronics show las vegas discuss new technologies impact one favourite pastimes . us leading trend programmes content delivered viewers via home networks cable satellite telecoms companies broadband service providers front rooms portable devices . one talked-about technologies ces digital personal video recorders ( dvr pvr ) . set-top boxes like us tivo uk sky+ system allow people record store play pause forward wind tv programmes want . essentially technology allows much personalised tv . also built-in high-definition tv sets big business japan us slower take europe lack high-definition programming . people forward wind adverts also forget abiding network channel schedules putting together a-la-carte entertainment . us networks cable satellite companies worried means terms advertising revenues well brand identity viewer loyalty channels . although us leads technology moment also concern raised europe particularly growing uptake services like sky+ . happens today see nine months years time uk adam hume bbc broadcast futurologist told bbc news website . likes bbc issues lost advertising revenue yet . pressing issue moment commercial uk broadcasters brand loyalty important everyone . talking content brands rather network brands said tim hanlon brand communications firm starcom mediavest . reality broadband connections anybody producer content . added : challenge hard promote programme much choice . means said stacey jolna senior vice president tv guide tv group way people find content want watch simplified tv viewers . means networks us terms channels could take leaf google book search engine future instead scheduler help people find want watch . kind channel model might work younger ipod generation used taking control gadgets play . might suit everyone panel recognised . older generations comfortable familiar schedules channel brands know getting . perhaps want much choice put hands mr hanlon suggested . end kids diapers pushing buttons already - everything possible available said mr hanlon . ultimately consumer tell market want . 50 000 new gadgets technologies showcased ces many enhancing tv-watching experience . high-definition tv sets everywhere many new models lcd ( liquid crystal display ) tvs launched dvr capability built instead external boxes . one example launched show humax 26-inch lcd tv 80-hour tivo dvr dvd recorder . one us biggest satellite tv companies directtv even launched branded dvr show 100-hours recording capability instant replay search function . set pause rewind tv 90 hours . microsoft chief bill gates announced pre-show keynote speech partnership tivo called tivotogo means people play recorded programmes windows pcs mobile devices . reflect increasing trend freeing multimedia people watch want want . '\n",
            " 'worldcom boss left books alone former worldcom boss bernie ebbers accused overseeing $ 11bn ( £5.8bn ) fraud never made accounting decisions witness told jurors . david myers made comments questioning defence lawyers arguing mr ebbers responsible worldcom problems . phone company collapsed 2002 prosecutors claim losses hidden protect firm shares . mr myers already pleaded guilty fraud assisting prosecutors . monday defence lawyer reid weingarten tried distance client allegations . cross examination asked mr myers ever knew mr ebbers make accounting decision . aware mr myers replied . ever know mr ebbers make accounting entry worldcom books mr weingarten pressed . replied witness . mr myers admitted ordered false accounting entries request former worldcom chief financial officer scott sullivan . defence lawyers trying paint mr sullivan admitted fraud testify later trial mastermind behind worldcom accounting house cards . mr ebbers team meanwhile looking portray affable boss admission pe graduate economist . whatever abilities mr ebbers transformed worldcom relative unknown $ 160bn telecoms giant investor darling late 1990s . worldcom problems mounted however competition increased telecoms boom petered . firm finally collapsed shareholders lost $ 180bn 20 000 workers lost jobs . mr ebbers trial expected last two months found guilty former ceo faces substantial jail sentence . firmly declared innocence . '\n",
            " 'tigers wary farrell gamble leicester say rushed making bid andy farrell great britain rugby league captain decide switch codes . anybody else involved process still way away going next stage tigers boss john wells told bbc radio leicester . moment still lot unknowns andy farrell least medical situation . whoever take going take big big gamble . farrell persistent knee problems operation knee five weeks ago expected another three months . leicester saracens believed head list rugby union clubs interested signing farrell decides move 15-man game . move across union wells believes would better playing backs least initially . sure could make step league union involved centre said wells . think england would prefer progress position back row make use rugby league skills within forwards . jury whether cross divide . club balance struck cost gamble option bringing ready-made replacement . '\n",
            " 'yeading face newcastle fa cup premiership side newcastle united face trip ryman premier league leaders yeading fa cup third round . game - arguably highlight draw - potential money-spinner non-league yeading beat slough second round . conference side exeter city knocked doncaster saturday travel old trafford meet holders manchester united january . arsenal drawn home stoke chelsea play host scunthorpe . non-league side draw hinckley united held brentford goalless draw sunday . meet league one leaders luton win replay martin allen team griffin park . number premiership teams face difficult away games championship sides weekend 8/9 january . third-placed everton visit plymouth liverpool travel burnley crystal palace go sunderland fulham face carling cup semi-finalists watford bolton meet ipswich aston villa drawn sheffield united . premiership strugglers norwich blackburn west brom away west ham cardiff preston north end respectively . southampton visit northampton already beaten league two side carling cup earlier season . middlesbrough drawn away either swindon notts county spurs entertain brighton white hart lane . arsenal v stoke swindon/notts co v middlesbrough man utd v exeter plymouth v everton leicester v blackpool derby v wigan sunderland v crystal palace wolves v millwall yeading v newcastle hull v colchester tottenham v brighton reading v stockport/swansea birmingham v leeds hartlepool v boston milton keynes dons v peterborough oldham v man city chelsea v scunthorpe cardiff v blackburn charlton v rochdale west ham v norwich sheff utd v aston villa preston v west brom rotherham v yeovil burnley v liverpool bournemouth v chester coventry v crewe watford v fulham ipswich v bolton portsmouth v gillingham northampton v southampton qpr v nottm forest luton v hinckley/brentford matches played weekend 8/9 january . '\n",
            " 'ocean twelve raids box office ocean twelve crime caper sequel starring george clooney brad pitt julia roberts gone straight number one us box office chart . took $ 40.8m ( £21m ) weekend ticket sales according studio estimates . sequel follows master criminals try pull three major heists across europe . knocked last week number one national treasure third place . wesley snipes blade : trinity second taking $ 16.1m ( £8.4m ) . rounding top five animated fable polar express starring tom hanks festive comedy christmas kranks . ocean twelve box office triumph marks fourth-biggest opening december release us three films lord rings trilogy . sequel narrowly beat 2001 predecessor ocean eleven took $ 38.1m ( £19.8m ) opening weekend $ 184m ( £95.8m ) total . remake 1960s film starring frank sinatra rat pack ocean eleven directed oscar-winning director steven soderbergh . soderbergh returns direct hit sequel reunites clooney pitt roberts matt damon andy garcia elliott gould . catherine zeta-jones joins all-star cast . fun good holiday movie said dan fellman president distribution warner bros. however us critics less complimentary $ 110m ( £57.2m ) project los angeles times labelling dispiriting vanity project . milder review new york times dubbed sequel unabashedly trivial . '\n",
            " 'howard hits back mongrel jibe michael howard said claim peter hain tory leader acting like attack mongrel shows labour rattled opposition . upbeat speech party spring conference brighton said labour campaigning tactics proved tories hitting home . mr hain made claim tory tactics anti-terror bill debate . something tells someone somewhere little bit rattled mr howard said . mr hain leader commons told bbc radio four today programme mr howard stance government anti-terrorism legislation putting country risk . accused tory leader behaving like attack mongrel playing opposition opposition sake . mr howard told party labour would anything say anything claim anything cling office costs . far year compared fagin shylock flying pig . morning peter hain even called mongrel . know something tells someone somewhere little bit rattled . environment secretary margaret beckett rejected mr howard comment telling radio 4 pm programme labour rattled . real duty try get people focus michael howard record proposals trying put forward country also many examples seeing believe really poor judgement behalf . mr howard said tory policies schools taxes immigration crime striking chord voters . since beginning year - election year - making political weather told party conference . mr howard denied playing politics raising case margaret dixon whose operation cancelled seven times grabbed headlines party two weeks ago . hit back labour claims used mrs dixon human shield . human shield mr blair human . mr howard said party plans immigration quotas also focus much media coverage racist - common sense . pledged cleaner hospitals better school discipline promise get rid political correctness national curriculum give everyone chance decent state education . come ordinary family . teenage michael howard applying cambridge today gordon brown would love . stressed party commitment cut taxes red tape increase basic state pension line earnings . finished personal appeal party activists go win next election . one day able tell children grandchildren tell mine . bit . played part . helped win famous election - election transformed country better . labour election co-ordinator alan milburn said : michael howard speech today confirms always said - strategy opportunism forward vision country . reference appearance mr howard family conference stage mr milburn said : michael howard perfectly entitled pose family today . hard working families across britain damaged plan cut £35bn public spending . '\n",
            " 'blair prepares name poll date tony blair likely name 5 may election day parliament returns easter break bbc political editor learned . andrew marr says mr blair ask queen 4 5 april dissolve parliament end week . mr blair far resisted calls name day parties stepped campaigning recently . downing street would drawn claim saying election timing matter prime minister . number 10 spokeswoman would say : announce election wants announce election . move signal frantic week westminster government likely try get key legislation parliament . government needs finance bill covering budget plans passed commons closes business end session 7 april . also seek push serious organised crime bill id cards bill . mr marr said wednesday today programme : almost nobody senior level inside government parliament expect election called 4 5 april . soon commons back short easter recess tony blair whips palace asks queen dissolve parliament ... going . labour government officially june 2006 hold general election recent years governments favoured four-year terms . '\n",
            " 'henman hopes ended dubai third seed tim henman slumped straight sets defeat rain-interrupted dubai open quarter-final ivan ljubicic . croatian eighth seed booked place last four 7-5 6-4 victory british number one . henman looked course level match going 2-0 second set progress halted rain intervened . ljubicic hit back break seal fourth straight win henman . earlier day spanish fifth seed tommy robredo secured semi-final place beat nicolas kiefer germany 6-4 6-4. afterwards henman left cursing weather umpire seven breaks rain match . incredibly frustrating henman said . raining umpire take control . kept telling us play till end game . raining come - score irrelevant . frustrating happy form . expect desert . '\n",
            " 'wilkinson fit face edinburgh england captain jonny wilkinson make long-awaited return injury edinburgh saturday . wilkinson played since injuring bicep 17 october took part full-contact training newcastle falcons wednesday . 25-year-old fly-half start saturday heineken cup match murrayfield bench . newcastle director rugby rob andrew said : fine hope get game stage . 25-year-old missed england autumn internationals aggravating haematoma upper right arm saracens . subsequently replaced england captain full-back jason robinson . sale charlie hodgson took number 10 shirt internationals canada south africa australia . wilkinson year disrupted injury muscle problem followed eight months sidelines shoulder injury sustained world cup final . '\n",
            " 'last star wars children sixth final star wars movie may suitable young children film-maker george lucas said . told us tv show 60 minutes revenge sith would darkest violent series . think would take five six-year-old told cbs programme aired sunday . lucas predicted film would get us rating advising parents scenes may unsuitable under-13s . opens uk us 19 may . said expected film would classified pg-13 - roughly equivalent british 12a rating . five previous star wars films carried less restrictive pg - parental guidance - ratings us . uk passed u - suitable - exception attack clones got pg rating 2002. revenge sith - third prequel original 1977 star wars film - chronicles transformation heroic anakin skywalker evil darth vader travels hell-like planet composed erupting volcanoes molten lava . going watch make pact devil lucas said . film much dark emotional . much tragedy . ']\n",
            "(2225,)\n"
          ],
          "name": "stdout"
        }
      ]
    },
    {
      "cell_type": "markdown",
      "metadata": {
        "id": "RuyriZ3xCv1U",
        "colab_type": "text"
      },
      "source": [
        "# **text to sequences**"
      ]
    },
    {
      "cell_type": "code",
      "metadata": {
        "id": "uNcO8MaoBgjc",
        "colab_type": "code",
        "colab": {
          "base_uri": "https://localhost:8080/",
          "height": 51
        },
        "outputId": "eb748a45-790d-4e27-8aae-5023ccf9564e"
      },
      "source": [
        "from keras.preprocessing.text import Tokenizer\n",
        "from keras.preprocessing.sequence import pad_sequences\n",
        "\n",
        "n_most_common=5000\n",
        "max_length=200\n",
        "tokenizer=Tokenizer(n_most_common,oov_token=\"<OOV>\",lower=True)\n",
        "tokenizer.fit_on_texts(X_array)\n",
        "print(\"Total unique character  : \",len(tokenizer.word_index))\n",
        "#print(tokenizer.word_index)\n",
        "\n",
        "#text to sequence\n",
        "trunc_type = 'post'\n",
        "padding_type = 'post'\n",
        "sequences=tokenizer.texts_to_sequences(X_array)\n",
        "final_X=pad_sequences(sequences,max_length,padding=padding_type,truncating=trunc_type)\n",
        "test_X=pad_sequences(sequences,max_length,padding=padding_type)\n",
        "print(\"used X has shape : \",final_X.shape)"
      ],
      "execution_count": 6,
      "outputs": [
        {
          "output_type": "stream",
          "text": [
            "Total unique character  :  29651\n",
            "used X has shape :  (2225, 200)\n"
          ],
          "name": "stdout"
        }
      ]
    },
    {
      "cell_type": "markdown",
      "metadata": {
        "id": "oXWIfhv88tdE",
        "colab_type": "text"
      },
      "source": [
        ""
      ]
    },
    {
      "cell_type": "code",
      "metadata": {
        "id": "hZT2BtZvHI-4",
        "colab_type": "code",
        "colab": {
          "base_uri": "https://localhost:8080/",
          "height": 35
        },
        "outputId": "dd8b6faa-7412-4176-e0c3-b7a22f2dc4d2"
      },
      "source": [
        "\"\"\"\n",
        "print(final_X[0])\n",
        "print(final_X[0].shape)\n",
        "print(\"Compared with \")\n",
        "print(test_X[0])\n",
        "print(test_X[0].shape)\n",
        "\"\"\""
      ],
      "execution_count": 7,
      "outputs": [
        {
          "output_type": "execute_result",
          "data": {
            "application/vnd.google.colaboratory.intrinsic+json": {
              "type": "string"
            },
            "text/plain": [
              "'\\nprint(final_X[0])\\nprint(final_X[0].shape)\\nprint(\"Compared with \")\\nprint(test_X[0])\\nprint(test_X[0].shape)\\n'"
            ]
          },
          "metadata": {
            "tags": []
          },
          "execution_count": 7
        }
      ]
    },
    {
      "cell_type": "markdown",
      "metadata": {
        "id": "OFV5QL9iQj-q",
        "colab_type": "text"
      },
      "source": [
        "# **Split Data**"
      ]
    },
    {
      "cell_type": "code",
      "metadata": {
        "id": "Ut6oSul0QnXa",
        "colab_type": "code",
        "colab": {
          "base_uri": "https://localhost:8080/",
          "height": 51
        },
        "outputId": "a224a942-c326-4342-9d38-1392a9cdd381"
      },
      "source": [
        "from sklearn.model_selection import train_test_split\n",
        "\n",
        "X_train,X_val,y_train,y_val=train_test_split(final_X,y,test_size=0.2)\n",
        "print(\"Shape X_train , y_train : \",X_train.shape,y_train.shape)\n",
        "\n",
        "print(\"Shape X_val , y_val : \",X_val.shape,y_val.shape)"
      ],
      "execution_count": 8,
      "outputs": [
        {
          "output_type": "stream",
          "text": [
            "Shape X_train , y_train :  (1780, 200) (1780,)\n",
            "Shape X_val , y_val :  (445, 200) (445,)\n"
          ],
          "name": "stdout"
        }
      ]
    },
    {
      "cell_type": "markdown",
      "metadata": {
        "id": "41Mpx63yRR0M",
        "colab_type": "text"
      },
      "source": [
        "# **Convert to Tensor and load to DATALOADER**"
      ]
    },
    {
      "cell_type": "code",
      "metadata": {
        "id": "ZcZwb3SLRYEx",
        "colab_type": "code",
        "colab": {
          "base_uri": "https://localhost:8080/",
          "height": 34
        },
        "outputId": "3c99ede2-4c78-4e5c-a577-bdedb28c10b5"
      },
      "source": [
        "import torch\n",
        "from torch.utils.data import DataLoader, TensorDataset\n",
        "\n",
        "#convert to tensor\n",
        "X_train_tensor=torch.from_numpy(X_train)\n",
        "X_val_tensor=torch.from_numpy(X_val)\n",
        "y_train_tensor=torch.from_numpy(y_train)\n",
        "y_val_tensor=torch.from_numpy(y_val)\n",
        "\n",
        "#Tensor dataset\n",
        "train_dataset=TensorDataset(X_train_tensor.long(),y_train_tensor.long())\n",
        "val_dataset=TensorDataset(X_val_tensor.long(),y_val_tensor.long())\n",
        "\n",
        "#dataloader\n",
        "batch_size=64\n",
        "train_loader=DataLoader(train_dataset,batch_size=batch_size)\n",
        "val_loader=DataLoader(val_dataset,batch_size=batch_size)\n",
        "\n",
        "print(y_train_tensor.shape)"
      ],
      "execution_count": 9,
      "outputs": [
        {
          "output_type": "stream",
          "text": [
            "torch.Size([1780])\n"
          ],
          "name": "stdout"
        }
      ]
    },
    {
      "cell_type": "markdown",
      "metadata": {
        "id": "k6RKUCEjQb28",
        "colab_type": "text"
      },
      "source": [
        "# **Define Model**"
      ]
    },
    {
      "cell_type": "code",
      "metadata": {
        "id": "9MiiwjxbQPAR",
        "colab_type": "code",
        "colab": {}
      },
      "source": [
        "import torch.nn as nn\n",
        "\n",
        "class LSTM(nn.Module):\n",
        "  def __init__(self,input_size,emb_size,hidden_size,output_size,vocab_size):\n",
        "    super(LSTM,self).__init__()\n",
        "    self.input_size=input_size\n",
        "    self.emb_size=emb_size\n",
        "    self.hidden_size=hidden_size\n",
        "    self.output_size=output_size\n",
        "    self.vocab_size=vocab_size\n",
        "\n",
        "    #emb layer\n",
        "    self.embedding=nn.Embedding(vocab_size,emb_size)\n",
        "    #lstm layer\n",
        "    self.lstm=nn.LSTM(input_size=emb_size,hidden_size=hidden_size,batch_first=True,bidirectional=True)\n",
        "\n",
        "    #logits\n",
        "    self.logits=nn.Linear(hidden_size,output_size)\n",
        "    self.softmax=nn.LogSoftmax()\n",
        "\n",
        "  def forward(self,inputs):\n",
        "    emb=self.embedding(inputs)\n",
        "    out,(ht,ct)=self.lstm(emb)\n",
        "    output=nn.Dropout(0.2)(ht[-1])\n",
        "    output=self.logits(output)\n",
        "    output=self.softmax(output)\n",
        "    return output\n",
        "\n",
        "input_size=max_length #=200\n",
        "emb_size=256\n",
        "hidden_size=64\n",
        "output_size=5\n",
        "vocab_size=n_most_common\n",
        "lstm=LSTM(input_size,emb_size,hidden_size,output_size,vocab_size)\n"
      ],
      "execution_count": 10,
      "outputs": []
    },
    {
      "cell_type": "markdown",
      "metadata": {
        "id": "cbItZu0GTvSi",
        "colab_type": "text"
      },
      "source": [
        "# **Define Loss and Optimizer**"
      ]
    },
    {
      "cell_type": "code",
      "metadata": {
        "id": "tMy9_C3ZTXQy",
        "colab_type": "code",
        "colab": {}
      },
      "source": [
        "learning_rate=0.01\n",
        "criterion=nn.NLLLoss()\n",
        "optimizer=torch.optim.Adam(lstm.parameters(),lr=learning_rate)"
      ],
      "execution_count": 11,
      "outputs": []
    },
    {
      "cell_type": "code",
      "metadata": {
        "id": "yfMDAWpfTykG",
        "colab_type": "code",
        "colab": {
          "base_uri": "https://localhost:8080/",
          "height": 850
        },
        "outputId": "8d6a7e56-fe7f-478f-8417-33417992eb62"
      },
      "source": [
        "epochs=10\n",
        "val_loss_list=[]\n",
        "train_loss_list=[]\n",
        "\n",
        "for epoch in range(epochs):\n",
        "  step=0\n",
        "  val_loss_total=0\n",
        "  val_temp_list=[]\n",
        "  train_temp_list=[]\n",
        "  for inputs,labels in train_loader:\n",
        "    lstm.zero_grad()\n",
        "    output=lstm(inputs)\n",
        "    labels=labels.long().squeeze_()\n",
        "    loss=criterion(output,labels)\n",
        "    loss.backward()\n",
        "    optimizer.step()\n",
        "    train_temp_list.append(loss)\n",
        "    if(step%10==0):\n",
        "      with torch.no_grad():\n",
        "        val_loss=0\n",
        "        step_val=len(X_val)//batch_size\n",
        "        for val_inputs,val_labels in val_loader:\n",
        "          val_output=lstm(val_inputs)\n",
        "          #val_labels=val_labels.long().squeeze_()\n",
        "          val_loss+=criterion(val_output,val_labels)*len(val_labels)\n",
        "        val_loss=val_loss/len(X_val)\n",
        "        print(\"Step : \",step,\" at : \",\"epoch : \",epoch+1,\" Train temp loss : \", loss.item(),\"val temp Loss : \",val_loss.item())\n",
        "        val_temp_list.append(val_loss)\n",
        "    step+=1\n",
        "  \n",
        "  print(\"~~~~~~~~~~~~Epoch : \",epoch+1,\"Train Loss : \",sum(train_temp_list).item()/len(train_temp_list),\" val loss : \",sum(val_temp_list).item()/len(val_temp_list),\"~~~~~~~~~~~~~~\\n\")\n",
        "  train_loss_list.append(sum(train_temp_list).item()/len(train_temp_list))\n",
        "  val_loss_list.append(sum(val_temp_list).item()/len(val_temp_list))"
      ],
      "execution_count": 12,
      "outputs": [
        {
          "output_type": "stream",
          "text": [
            "Step :  10  at :  epoch :  1  Train temp loss :  1.3336511850357056 val temp Loss :  1.3974875211715698\n",
            "Step :  20  at :  epoch :  1  Train temp loss :  1.1996184587478638 val temp Loss :  1.0588808059692383\n",
            "~~~~~~~~~~~~Epoch :  1 Train Loss :  1.244370460510254  val loss :  1.344326655069987 ~~~~~~~~~~~~~~\n",
            "\n",
            "Step :  0  at :  epoch :  2  Train temp loss :  0.5027512907981873 val temp Loss :  0.6661935448646545\n",
            "Step :  10  at :  epoch :  2  Train temp loss :  0.2983529567718506 val temp Loss :  0.46452435851097107\n",
            "Step :  20  at :  epoch :  2  Train temp loss :  0.2721923887729645 val temp Loss :  0.49244236946105957\n",
            "~~~~~~~~~~~~Epoch :  2 Train Loss :  0.24952539375850133  val loss :  0.5410534143447876 ~~~~~~~~~~~~~~\n",
            "\n",
            "Step :  0  at :  epoch :  3  Train temp loss :  0.0918211117386818 val temp Loss :  0.4990060329437256\n",
            "Step :  10  at :  epoch :  3  Train temp loss :  0.04382654279470444 val temp Loss :  0.48620083928108215\n",
            "Step :  20  at :  epoch :  3  Train temp loss :  0.06053555756807327 val temp Loss :  0.4706280529499054\n",
            "~~~~~~~~~~~~Epoch :  3 Train Loss :  0.0700405580656869  val loss :  0.48527828852335614 ~~~~~~~~~~~~~~\n",
            "\n",
            "Step :  0  at :  epoch :  4  Train temp loss :  0.03734079375863075 val temp Loss :  0.4416601359844208\n",
            "Step :  10  at :  epoch :  4  Train temp loss :  0.04742421954870224 val temp Loss :  0.3861065208911896\n",
            "Step :  20  at :  epoch :  4  Train temp loss :  0.013889580965042114 val temp Loss :  0.3554425537586212\n",
            "~~~~~~~~~~~~Epoch :  4 Train Loss :  0.018018013664654324  val loss :  0.39440306027730304 ~~~~~~~~~~~~~~\n",
            "\n",
            "Step :  0  at :  epoch :  5  Train temp loss :  0.006790825631469488 val temp Loss :  0.345323771238327\n",
            "Step :  10  at :  epoch :  5  Train temp loss :  0.002862076973542571 val temp Loss :  0.3408603072166443\n",
            "Step :  20  at :  epoch :  5  Train temp loss :  0.002859357977285981 val temp Loss :  0.34974753856658936\n",
            "~~~~~~~~~~~~Epoch :  5 Train Loss :  0.003502245992422104  val loss :  0.3453105290730794 ~~~~~~~~~~~~~~\n",
            "\n",
            "Step :  0  at :  epoch :  6  Train temp loss :  0.004280867986381054 val temp Loss :  0.32548344135284424\n",
            "Step :  10  at :  epoch :  6  Train temp loss :  0.07496389001607895 val temp Loss :  0.3562237620353699\n",
            "Step :  20  at :  epoch :  6  Train temp loss :  0.025337088853120804 val temp Loss :  0.4114963412284851\n",
            "~~~~~~~~~~~~Epoch :  6 Train Loss :  0.008417173155716487  val loss :  0.3644011815388997 ~~~~~~~~~~~~~~\n",
            "\n",
            "Step :  0  at :  epoch :  7  Train temp loss :  0.011032413691282272 val temp Loss :  0.399563193321228\n",
            "Step :  10  at :  epoch :  7  Train temp loss :  0.010648776777088642 val temp Loss :  0.3793288767337799\n",
            "Step :  20  at :  epoch :  7  Train temp loss :  0.00237528164871037 val temp Loss :  0.37664490938186646\n",
            "~~~~~~~~~~~~Epoch :  7 Train Loss :  0.0050016577754701886  val loss :  0.3851789633433024 ~~~~~~~~~~~~~~\n",
            "\n",
            "Step :  0  at :  epoch :  8  Train temp loss :  0.0019915590528398752 val temp Loss :  0.3580515682697296\n",
            "Step :  10  at :  epoch :  8  Train temp loss :  0.003893140470609069 val temp Loss :  0.366793692111969\n",
            "Step :  20  at :  epoch :  8  Train temp loss :  0.00145965744741261 val temp Loss :  0.3445194959640503\n",
            "~~~~~~~~~~~~Epoch :  8 Train Loss :  0.0015245405957102776  val loss :  0.35645492871602374 ~~~~~~~~~~~~~~\n",
            "\n",
            "Step :  0  at :  epoch :  9  Train temp loss :  0.001119317952543497 val temp Loss :  0.35080277919769287\n",
            "Step :  10  at :  epoch :  9  Train temp loss :  0.0013638859381899238 val temp Loss :  0.3210485279560089\n",
            "Step :  20  at :  epoch :  9  Train temp loss :  0.001456837053410709 val temp Loss :  0.3340822160243988\n",
            "~~~~~~~~~~~~Epoch :  9 Train Loss :  0.0009650979856295245  val loss :  0.3353111743927002 ~~~~~~~~~~~~~~\n",
            "\n",
            "Step :  0  at :  epoch :  10  Train temp loss :  0.0006713664624840021 val temp Loss :  0.3540343940258026\n",
            "Step :  10  at :  epoch :  10  Train temp loss :  0.0005857002688571811 val temp Loss :  0.3402196764945984\n",
            "Step :  20  at :  epoch :  10  Train temp loss :  0.000798360095359385 val temp Loss :  0.3405933976173401\n",
            "~~~~~~~~~~~~Epoch :  10 Train Loss :  0.0008610596747270652  val loss :  0.3449491659800212 ~~~~~~~~~~~~~~\n",
            "\n"
          ],
          "name": "stdout"
        }
      ]
    },
    {
      "cell_type": "code",
      "metadata": {
        "id": "m_ym_irOaw44",
        "colab_type": "code",
        "colab": {
          "base_uri": "https://localhost:8080/",
          "height": 71
        },
        "outputId": "072e6dbd-1f27-4bed-b55d-4334b87f4126"
      },
      "source": [
        "correct=0\n",
        "for val_inputs, val_labels in val_loader:\n",
        "  #print(\"real: \\n\",val_labels)\n",
        "  val_predicted=lstm(val_inputs)\n",
        "  #print(\"predict : \\n \",torch.max(val_predicted.data,1)[1])\n",
        "  idx_predicted=torch.max(val_predicted.data,1)[1]\n",
        "  correct+=(idx_predicted==val_labels).sum()\n",
        "  #print(\"end \\n\")\n",
        "print(\"Val ACC: \",correct.item()/len(X_val)*100)"
      ],
      "execution_count": 13,
      "outputs": [
        {
          "output_type": "stream",
          "text": [
            "/usr/local/lib/python3.6/dist-packages/ipykernel_launcher.py:26: UserWarning: Implicit dimension choice for log_softmax has been deprecated. Change the call to include dim=X as an argument.\n"
          ],
          "name": "stderr"
        },
        {
          "output_type": "stream",
          "text": [
            "Val ACC:  91.46067415730337\n"
          ],
          "name": "stdout"
        }
      ]
    },
    {
      "cell_type": "code",
      "metadata": {
        "id": "wEfppcvU6wdn",
        "colab_type": "code",
        "colab": {
          "base_uri": "https://localhost:8080/",
          "height": 312
        },
        "outputId": "ae9908e5-ea3e-41be-c865-04ef7b8b7b8c"
      },
      "source": [
        "import matplotlib.pyplot as plt\n",
        "\n",
        "plt.plot(np.arange(len(train_loss_list)),train_loss_list,'r')\n",
        "plt.plot(np.arange(len(val_loss_list)),val_loss_list,'g')\n",
        "plt.title(\"Loss visualization: \")\n",
        "plt.xlabel(\"Epoch \")\n",
        "plt.ylabel(\"Loss values : \")\n",
        "plt.legend(['Train','Val'],loc='upper right')"
      ],
      "execution_count": 14,
      "outputs": [
        {
          "output_type": "execute_result",
          "data": {
            "text/plain": [
              "<matplotlib.legend.Legend at 0x7f7b33975588>"
            ]
          },
          "metadata": {
            "tags": []
          },
          "execution_count": 14
        },
        {
          "output_type": "display_data",
          "data": {
            "image/png": "[encoded data removed]",
            "text/plain": [
              "<Figure size 432x288 with 1 Axes>"
            ]
          },
          "metadata": {
            "tags": [],
            "needs_background": "light"
          }
        }
      ]
    },
    {
      "cell_type": "code",
      "metadata": {
        "id": "4M24DpSA7LfC",
        "colab_type": "code",
        "colab": {}
      },
      "source": [
        ""
      ],
      "execution_count": 14,
      "outputs": []
    },
    {
      "cell_type": "code",
      "metadata": {
        "id": "3bwfIZfJ9Uig",
        "colab_type": "code",
        "colab": {}
      },
      "source": [
        ""
      ],
      "execution_count": 14,
      "outputs": []
    }
  ]
}